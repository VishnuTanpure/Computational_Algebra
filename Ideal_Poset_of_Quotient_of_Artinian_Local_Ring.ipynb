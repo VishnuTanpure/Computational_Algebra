{
  "nbformat": 4,
  "nbformat_minor": 0,
  "metadata": {
    "colab": {
      "provenance": []
    },
    "kernelspec": {
      "name": "python3",
      "display_name": "Python 3"
    },
    "language_info": {
      "name": "python"
    }
  },
  "cells": [
    {
      "cell_type": "code",
      "execution_count": 1,
      "metadata": {
        "cellView": "form",
        "id": "_MlswXVrV-lx"
      },
      "outputs": [],
      "source": [
        "# @title $Start$\n",
        "# Import necessary libraries for plotting and matrix operations\n",
        "import matplotlib.pyplot as plt\n",
        "from matplotlib.pyplot import figure  # For setting figure size\n",
        "from sympy.matrices import Matrix, eye, zeros, ones, diag, GramSchmidt  # Import various matrix functions from sympy\n",
        "from scipy import linalg  # Import linear algebra functions from scipy\n",
        "from functools import reduce  # Import reduce function from functools\n",
        "\n",
        "# Define a function `modulo_n` to reduce the coefficients of a polynomial modulo `n`\n",
        "def modulo_n(n, f):\n",
        "    # Convert input polynomial `f` into a sympy Poly object for easier manipulation\n",
        "    f = sp.Poly(f)\n",
        "\n",
        "    # Get the variables (generators) of the polynomial\n",
        "    Gen = f.gens\n",
        "\n",
        "    # Extract the coefficients of the polynomial\n",
        "    Coef = f.coeffs()\n",
        "\n",
        "    # Extract the monomials (terms with powers of variables) of the polynomial\n",
        "    Mono = f.monoms()\n",
        "\n",
        "    # Loop through each coefficient to reduce it modulo `n`\n",
        "    for i in range(len(Coef)):\n",
        "        Coef[i] = Coef[i] % n  # Take each coefficient mod `n`\n",
        "\n",
        "    # Initialize an expression variable to reconstruct the polynomial with new coefficients\n",
        "    expr = 0\n",
        "\n",
        "    # Rebuild the polynomial using the modified coefficients and monomials\n",
        "    for i in range(len(Coef)):\n",
        "        monomial = 1  # Start with a monomial value of 1\n",
        "\n",
        "        # Loop through the variables of the polynomial and raise them to the appropriate power\n",
        "        for j in range(len(Gen)):\n",
        "            monomial = monomial * Gen[j] ** Mono[i][j]  # Multiply variable raised to the power\n",
        "\n",
        "        # Add the term (coefficient * monomial) to the expression\n",
        "        expr = expr + Coef[i] * monomial\n",
        "\n",
        "    # Return the final polynomial with coefficients reduced modulo `n`\n",
        "    return expr\n"
      ]
    },
    {
      "cell_type": "code",
      "source": [
        "# @title $Enter \\ \\ Generators \\ \\ of \\ \\ Ideal$\n",
        "\n",
        "# Import necessary libraries for symbolic mathematics and array operations\n",
        "import sympy as sp  # For symbolic mathematics\n",
        "import numpy as np  # For numerical operations (although unused here)\n",
        "import itertools  # For working with cross products of lists\n",
        "\n",
        "# Prompt user to enter the number of generators for the ideal\n",
        "d0 = int(input('Number of Generators : '))  # d0 stores the number of generators\n",
        "\n",
        "# Initialize an empty list to store the generators of the ideal\n",
        "generators = []\n",
        "\n",
        "# Loop to collect each generator from the user\n",
        "for i in range(d0):\n",
        "    # Print a message asking the user to enter the i-th generator\n",
        "    print('enter g', i+1, ':', sep='')  # 'sep=' is used to remove spaces between 'g' and the number\n",
        "\n",
        "    # Take input from the user as a string\n",
        "    gen_temp = input(\": \")\n",
        "\n",
        "    # Convert the string input into a symbolic expression using sympy\n",
        "    gen_temp = sp.sympify(gen_temp)\n",
        "\n",
        "    # Append the symbolic generator to the list of generators\n",
        "    generators.append(gen_temp)\n"
      ],
      "metadata": {
        "colab": {
          "base_uri": "https://localhost:8080/",
          "height": 0
        },
        "cellView": "form",
        "id": "Qlg0SCtJWoMu",
        "outputId": "d757a021-b16f-4fb1-a480-58f2c3aff1fd"
      },
      "execution_count": 3,
      "outputs": [
        {
          "name": "stdout",
          "output_type": "stream",
          "text": [
            "Number of Generators : 3\n",
            "enter g1:\n",
            ": x**2\n",
            "enter g2:\n",
            ": y**2\n",
            "enter g3:\n",
            ": z**2\n"
          ]
        }
      ]
    },
    {
      "cell_type": "code",
      "source": [
        "#@title $Choose \\ \\ Base \\ \\ Ring$\n",
        "\n",
        "# Variable to choose the base ring from a list of predefined options\n",
        "choose_ring = \"Z(n)\" #@param [\"C\",\"R\", \"Q\", \"Z\", \"Z(n)\"] {allow-input: true}\n",
        "  # User selects the base ring. Options are \"C\" (Complex), \"R\" (Real), \"Q\" (Rational), \"Z\" (Integers), or \"Z(n)\" (Integers modulo n)\n",
        "# The user can either select from the dropdown or input custom values due to `allow-input: true`.\n",
        "\n",
        "# Conditional statements to map the user selection to the corresponding ring in symbolic math libraries\n",
        "if (choose_ring == \"C\"):\n",
        "    # If the chosen ring is \"C\" (Complex numbers), set ring to \"CC\"\n",
        "    ring = \"CC\"\n",
        "elif (choose_ring == \"R\"):\n",
        "    # If the chosen ring is \"R\" (Real numbers), set ring to \"RR\"\n",
        "    ring = \"RR\"\n",
        "elif (choose_ring == \"Q\"):\n",
        "    # If the chosen ring is \"Q\" (Rational numbers), set ring to \"QQ\"\n",
        "    ring = \"QQ\"\n",
        "elif (choose_ring == \"Z\"):\n",
        "    # If the chosen ring is \"Z\" (Integers), set ring to \"ZZ\"\n",
        "    ring = \"ZZ\"\n",
        "elif (choose_ring == \"Z(n)\"):\n",
        "    # If the chosen ring is \"Z(n)\" (Integers modulo n), prompt the user to input the value of n\n",
        "    d0 = int(input('n = '))  # Ask for the modulus value `n`\n",
        "\n",
        "    # Set the ring to a finite field with modulo `n`, using the form \"GF(n)\"\n",
        "    ring = \"GF(\" + str(d0) + \")\""
      ],
      "metadata": {
        "colab": {
          "base_uri": "https://localhost:8080/",
          "height": 0
        },
        "cellView": "form",
        "id": "3N9KpITAXn7O",
        "outputId": "cbbb4bbd-3a89-4567-e222-8c22113e4279"
      },
      "execution_count": 4,
      "outputs": [
        {
          "name": "stdout",
          "output_type": "stream",
          "text": [
            "n = 2\n"
          ]
        }
      ]
    },
    {
      "cell_type": "code",
      "source": [
        "# @title $Variables \\ \\ and \\ \\ Order$\n",
        "\n",
        "# Variable to choose the monomial order from a list of predefined options\n",
        "choose_order = \"lex\" #@param [\"lex\", \"grlex\", \"grevlex\"]\n",
        "# User selects the monomial order. Options are \"lex\" (lexicographic), \"grlex\" (graded lexicographic), \"grevlex\" (graded reverse lexicographic)\n",
        "\n",
        "# Prompt user to input variables, separated by commas, and convert them to sympy symbolic variables\n",
        "X = [sp.sympify(i) for i in input(\"Enter variables separated by ',':\").split(',')]\n",
        "# The input is split by commas, and each variable is converted into a symbolic expression using `sympify`. This creates a list of symbolic variables `X`.\n",
        "\n",
        "# Create a dictionary where each variable name is mapped to the corresponding sympy variable\n",
        "v = dict([(i.name, i) for i in X])  # The variable name is the key, and the corresponding sympy object is the value.\n",
        "# This dictionary `v` allows easy lookup of variables by name, where `i.name` gives the string name of each variable in `X`, and `i` is the corresponding sympy variable."
      ],
      "metadata": {
        "colab": {
          "base_uri": "https://localhost:8080/",
          "height": 0
        },
        "cellView": "form",
        "id": "FujFB1iHYAuP",
        "outputId": "d3936624-1982-4736-9e85-c37c557bf281"
      },
      "execution_count": 5,
      "outputs": [
        {
          "name": "stdout",
          "output_type": "stream",
          "text": [
            "Enter variables separated by ',':x,y,z\n"
          ]
        }
      ]
    },
    {
      "cell_type": "code",
      "source": [
        "# @title $Grobner \\ \\ Basis \\ \\ for \\ \\ Ideal$ { form-width: \"20%\" }\n",
        "\n",
        "# User selects the algorithm for computing the Grobner Basis\n",
        "algorithm = \"buchberger\" #@param [\"buchberger\", \"f5b\"]\n",
        "# Options: \"buchberger\" or \"f5b\" algorithms for Grobner Basis computation\n",
        "\n",
        "# Import necessary display functions for rendering mathematical symbols in LaTeX\n",
        "from IPython.display import HTML, Math\n",
        "\n",
        "# Display the header for the Grobner Basis calculation in LaTeX format\n",
        "display(Math(r'Grobner \\ \\ Basis \\ \\ G \\ ='))\n",
        "\n",
        "# Initialize an empty list to hold the symbolic variables used in Grobner basis computation\n",
        "var = []  # List of variables\n",
        "for i in range(len(X)):\n",
        "    var.append(X[i])  # Add each variable from X to the var list\n",
        "\n",
        "# Compute the Grobner Basis G using the chosen algorithm, ring, order, and generators\n",
        "G = sp.groebner(generators, var, domain=ring, order=choose_order, method=algorithm)\n",
        "\n",
        "# Display each element of the Grobner Basis in LaTeX format\n",
        "for i in range(len(G)):\n",
        "    display(Math(r'{\\large g_{_{'+sp.latex(i+1)+r'}}='+sp.latex(sp.nsimplify(G[i]))+r'}'))\n",
        "    print()  # Print an empty line for spacing\n",
        "\n",
        "# Try checking if the ideal is zero-dimensional\n",
        "try:\n",
        "    check_zero_dim = sp.is_zero_dimensional(G, order=choose_order)\n",
        "\n",
        "    # Display whether the ideal is zero-dimensional based on the check\n",
        "    if (check_zero_dim == 1):\n",
        "        display(Math(r'Ideal \\ \\ is \\ \\ Zero \\ \\ Dimensional \\ !'))\n",
        "    else:\n",
        "        display(Math(r'Ideal \\ \\ is \\ \\ Not \\ \\ a \\ \\ Zero \\ \\ Dimensional \\ !!'))\n",
        "except:\n",
        "    pass  # In case of an exception, continue execution without interruption\n",
        "\n",
        "# If the ideal is zero-dimensional, proceed to compute leading monomials and standard basis\n",
        "if (check_zero_dim == 1):\n",
        "    print()\n",
        "    print()\n",
        "\n",
        "    # Display the heading for leading monomials of the Grobner Basis\n",
        "    display(Math(r'Leading \\ \\  Monomials \\ \\ of \\ \\ G '))\n",
        "\n",
        "    LM_G = []  # List to store leading monomials of Grobner Basis\n",
        "    for i in range(len(G)):\n",
        "        temp = sp.LM(G[i], var, order=choose_order)  # Compute the leading monomial of each Grobner Basis element\n",
        "        LM_G.append(temp)\n",
        "\n",
        "        # Display each leading monomial in LaTeX format\n",
        "        display(Math(r'{\\large LM \\left( g_{_{'+sp.latex(i+1)+r'}} \\right)='+sp.latex(temp)+r'}'))\n",
        "        print()  # Print an empty line for spacing\n",
        "\n",
        "    # Initialize a list to store the exponent vectors of the leading monomials\n",
        "    expo_vect_LT = []  # Exponent of LT/LM (exponent_x, exponent_y)\n",
        "    for i in range(len(LM_G)):\n",
        "        expo_vect_LT.append(sp.degree_list(LM_G[i], tuple(X)))  # Get the degree list (exponents) of each leading monomial\n",
        "\n",
        "    # Find the maximum exponent for each variable\n",
        "    max_exp = []  # Maximum exponents\n",
        "    expo_vect1 = np.array(expo_vect_LT)  # Convert exponent vector to a numpy array\n",
        "    for i in range(len(X)):\n",
        "        max_exp.append(max(expo_vect1[:, i]))  # Find the maximum exponent for each variable\n",
        "\n",
        "    # Calculate the total number of monomials based on the maximum exponents\n",
        "    total_monomials = 1\n",
        "    for i in range(len(max_exp)):\n",
        "        total_monomials = total_monomials * max_exp[i]  # Multiply the maximum exponents\n",
        "\n",
        "    # Generate a list of exponents for each variable\n",
        "    list0 = []  # Exponents of x, y coordinates\n",
        "    for i in range(len(max_exp)):\n",
        "        temp_list = [(j) for j in range(max_exp[i])]  # Create a list of exponents for each variable\n",
        "        list0.append(temp_list)\n",
        "\n",
        "    # Generate the exponent vectors for the standard basis\n",
        "    expo_vect = []  # Exponents of standard basis\n",
        "    for element in itertools.product(*list0):  # Cartesian product of the exponent lists\n",
        "        expo_vect.append(element)\n",
        "\n",
        "    # Remove exponent vectors that are dominated by the leading terms of the Grobner Basis\n",
        "    k = 0\n",
        "    while (k < len(expo_vect_LT)):\n",
        "        vect_lt = expo_vect_LT[k]\n",
        "        j = 0\n",
        "        while (j < len(expo_vect)):\n",
        "            vect = expo_vect[j]\n",
        "            check = 0\n",
        "            for i in range(len(vect)):\n",
        "                if (vect_lt[i] <= vect[i] and check == 0):\n",
        "                    pass  # If the exponent of the leading term is less than or equal to the exponent, continue\n",
        "                else:\n",
        "                    check = 1  # If any exponent is greater, mark check as 1 and break the loop\n",
        "                    break\n",
        "\n",
        "            if (check == 0):\n",
        "                expo_vect.remove(vect)  # Remove the dominated exponent vector\n",
        "            else:\n",
        "                j = j + 1\n",
        "\n",
        "        k = k + 1\n",
        "\n",
        "    print()\n",
        "    # Display the standard basis in LaTeX format\n",
        "    display(Math(r'\\therefore \\ \\ Standard \\ \\ Basis  \\ \\ is:'))\n",
        "    print()\n",
        "\n",
        "    # Initialize a list to store the standard basis polynomials\n",
        "    std_basis = []\n",
        "    x = sp.symbols('x')\n",
        "    y = sp.symbols('y')\n",
        "    z = sp.symbols('z')\n",
        "\n",
        "    # Construct each standard basis polynomial from the exponent vectors\n",
        "    for i in range(len(expo_vect)):\n",
        "        poly = 1\n",
        "        for j in range(len(expo_vect[i])):\n",
        "            poly = poly * var[j]**expo_vect[i][j]  # Raise each variable to the corresponding exponent\n",
        "        std_basis.append(poly)\n",
        "\n",
        "    # Format the standard basis as a LaTeX expression for display\n",
        "    expr = r' {\\large \\ B= \\left \\{ '\n",
        "    for i in range(len(std_basis)):\n",
        "        expr = expr + sp.latex(std_basis[i])  # Convert each standard basis polynomial to LaTeX\n",
        "        if (i != (len(std_basis) - 1)):\n",
        "            expr = expr + r' \\ , \\ '  # Add a comma between polynomials\n",
        "    expr = expr + r' \\right \\} } '\n",
        "\n",
        "    # Display the formatted standard basis\n",
        "    display(Math(expr))\n",
        "    print()\n",
        "\n",
        "    # Display the dimension of the standard basis in LaTeX format\n",
        "    display(Math(r'Dimension =' + sp.latex(len(std_basis))))\n"
      ],
      "metadata": {
        "colab": {
          "base_uri": "https://localhost:8080/",
          "height": 496
        },
        "cellView": "form",
        "id": "KsRE1OPZY_mQ",
        "outputId": "0a232f33-100b-4800-feff-4b3790f8c502"
      },
      "execution_count": 6,
      "outputs": [
        {
          "output_type": "display_data",
          "data": {
            "text/plain": [
              "<IPython.core.display.Math object>"
            ],
            "text/latex": "$\\displaystyle Grobner \\ \\ Basis \\ \\ G \\ =$"
          },
          "metadata": {}
        },
        {
          "output_type": "display_data",
          "data": {
            "text/plain": [
              "<IPython.core.display.Math object>"
            ],
            "text/latex": "$\\displaystyle {\\large g_{_{1}}=x^{2}}$"
          },
          "metadata": {}
        },
        {
          "output_type": "stream",
          "name": "stdout",
          "text": [
            "\n"
          ]
        },
        {
          "output_type": "display_data",
          "data": {
            "text/plain": [
              "<IPython.core.display.Math object>"
            ],
            "text/latex": "$\\displaystyle {\\large g_{_{2}}=y^{2}}$"
          },
          "metadata": {}
        },
        {
          "output_type": "stream",
          "name": "stdout",
          "text": [
            "\n"
          ]
        },
        {
          "output_type": "display_data",
          "data": {
            "text/plain": [
              "<IPython.core.display.Math object>"
            ],
            "text/latex": "$\\displaystyle {\\large g_{_{3}}=z^{2}}$"
          },
          "metadata": {}
        },
        {
          "output_type": "stream",
          "name": "stdout",
          "text": [
            "\n"
          ]
        },
        {
          "output_type": "display_data",
          "data": {
            "text/plain": [
              "<IPython.core.display.Math object>"
            ],
            "text/latex": "$\\displaystyle Ideal \\ \\ is \\ \\ Zero \\ \\ Dimensional \\ !$"
          },
          "metadata": {}
        },
        {
          "output_type": "stream",
          "name": "stdout",
          "text": [
            "\n",
            "\n"
          ]
        },
        {
          "output_type": "display_data",
          "data": {
            "text/plain": [
              "<IPython.core.display.Math object>"
            ],
            "text/latex": "$\\displaystyle Leading \\ \\  Monomials \\ \\ of \\ \\ G $"
          },
          "metadata": {}
        },
        {
          "output_type": "display_data",
          "data": {
            "text/plain": [
              "<IPython.core.display.Math object>"
            ],
            "text/latex": "$\\displaystyle {\\large LM \\left( g_{_{1}} \\right)=x^{2}}$"
          },
          "metadata": {}
        },
        {
          "output_type": "stream",
          "name": "stdout",
          "text": [
            "\n"
          ]
        },
        {
          "output_type": "display_data",
          "data": {
            "text/plain": [
              "<IPython.core.display.Math object>"
            ],
            "text/latex": "$\\displaystyle {\\large LM \\left( g_{_{2}} \\right)=y^{2}}$"
          },
          "metadata": {}
        },
        {
          "output_type": "stream",
          "name": "stdout",
          "text": [
            "\n"
          ]
        },
        {
          "output_type": "display_data",
          "data": {
            "text/plain": [
              "<IPython.core.display.Math object>"
            ],
            "text/latex": "$\\displaystyle {\\large LM \\left( g_{_{3}} \\right)=z^{2}}$"
          },
          "metadata": {}
        },
        {
          "output_type": "stream",
          "name": "stdout",
          "text": [
            "\n",
            "\n"
          ]
        },
        {
          "output_type": "display_data",
          "data": {
            "text/plain": [
              "<IPython.core.display.Math object>"
            ],
            "text/latex": "$\\displaystyle \\therefore \\ \\ Standard \\ \\ Basis  \\ \\ is:$"
          },
          "metadata": {}
        },
        {
          "output_type": "stream",
          "name": "stdout",
          "text": [
            "\n"
          ]
        },
        {
          "output_type": "display_data",
          "data": {
            "text/plain": [
              "<IPython.core.display.Math object>"
            ],
            "text/latex": "$\\displaystyle  {\\large \\ B= \\left \\{ 1 \\ , \\ z \\ , \\ y \\ , \\ y z \\ , \\ x \\ , \\ x z \\ , \\ x y \\ , \\ x y z \\right \\} } $"
          },
          "metadata": {}
        },
        {
          "output_type": "stream",
          "name": "stdout",
          "text": [
            "\n"
          ]
        },
        {
          "output_type": "display_data",
          "data": {
            "text/plain": [
              "<IPython.core.display.Math object>"
            ],
            "text/latex": "$\\displaystyle Dimension =8$"
          },
          "metadata": {}
        }
      ]
    },
    {
      "cell_type": "code",
      "source": [
        "# @title $Quotient \\ \\ Ring$\n",
        "\n",
        "# Prepare the LaTeX representation of the ideal generators for the quotient ring\n",
        "temp = r'\\left \\langle '\n",
        "for i in range(len(generators)):\n",
        "    temp = temp + sp.latex(generators[i])  # Add each generator in LaTeX format\n",
        "    if (i != (len(generators) - 1)):\n",
        "        temp = temp + r' \\ , \\ '  # Separate generators with a comma\n",
        "temp = temp + r'\\right \\rangle '\n",
        "\n",
        "# Construct the LaTeX representation of the quotient ring depending on the base ring\n",
        "if (choose_ring == \"Z(n)\"):\n",
        "    # For Z(n), use modular notation with base n\n",
        "    quotient_ring = r'\\frac{ Z_{'+sp.latex(d0)+r'}'+sp.latex(var)+r'} {'+temp+r'}'\n",
        "else:\n",
        "    # For other rings (C, R, Q, Z), simply use the chosen ring name\n",
        "    quotient_ring = r'\\frac{'+sp.latex(choose_ring)+sp.latex(var)+r'} {'+temp+r'}'\n",
        "\n",
        "# Prepare the LaTeX representation for the standard basis in the quotient ring\n",
        "temp1 = r' \\left \\langle '\n",
        "for j in range(len(std_basis)):\n",
        "    temp1 = temp1 + r'\\bar{' + sp.latex(std_basis[j]) + r'}'  # Overline to represent elements of the quotient ring\n",
        "    if (j != (len(std_basis) - 1)):\n",
        "        temp1 = temp1 + r' \\ , \\ '  # Separate with a comma\n",
        "temp1 = temp1 + r' \\right \\rangle }'\n",
        "\n",
        "# Display the final LaTeX expression for the quotient ring\n",
        "display(Math(r'{\\large ' + quotient_ring + r'=' + temp1))\n",
        "print()\n",
        "print()\n",
        "\n",
        "# The length of the standard basis and number of elements in the quotient ring\n",
        "k = len(std_basis)\n",
        "n = d0**k  # Calculate total number of elements in the quotient ring (d0 is the modulus)\n",
        "\n",
        "# Initialize a list of coefficients for each element in the quotient ring\n",
        "coeff = [[(0) for j in range(k)]]  # Start with the zero element\n",
        "\n",
        "# Generate all possible coefficients for the quotient ring elements (mod d0)\n",
        "for i in range(1, n):\n",
        "    list0 = [(0) for j in range(k)]  # Initialize coefficient list for the current element\n",
        "    count = 0\n",
        "    while (i > 0):\n",
        "        r = i % d0  # Modulus operation to find remainder\n",
        "        list0[count] = r  # Assign remainder as the coefficient for the current variable\n",
        "        i = i // d0  # Integer division for the next coefficient\n",
        "        count = count + 1\n",
        "    coeff.append(list0)  # Append the coefficient list to the total coefficients\n",
        "\n",
        "# Create elements of the quotient ring using the standard basis and coefficients\n",
        "QRing = []  # List to store elements of the quotient ring\n",
        "for every in coeff:\n",
        "    elt = 0\n",
        "    QRing.append(sum([(every[i] * std_basis[i]) for i in range(k)]))  # Construct each element by combining the standard basis and coefficients\n",
        "\n",
        "# Display the total number of elements in the quotient ring\n",
        "display(Math(r'Total \\ \\ Number \\ \\ of \\ \\ Elements \\ ='+sp.latex(len(QRing))))\n"
      ],
      "metadata": {
        "cellView": "form",
        "colab": {
          "base_uri": "https://localhost:8080/",
          "height": 120
        },
        "id": "yT60Z0LAZcqc",
        "outputId": "2ae6476b-4efa-49c5-bbe7-9d12b5aaf4f0"
      },
      "execution_count": 7,
      "outputs": [
        {
          "output_type": "display_data",
          "data": {
            "text/plain": [
              "<IPython.core.display.Math object>"
            ],
            "text/latex": "$\\displaystyle {\\large \\frac{ Z_{2}\\left[ x, \\  y, \\  z\\right]} {\\left \\langle x^{2} \\ , \\ y^{2} \\ , \\ z^{2}\\right \\rangle }= \\left \\langle \\bar{1} \\ , \\ \\bar{z} \\ , \\ \\bar{y} \\ , \\ \\bar{y z} \\ , \\ \\bar{x} \\ , \\ \\bar{x z} \\ , \\ \\bar{x y} \\ , \\ \\bar{x y z} \\right \\rangle }$"
          },
          "metadata": {}
        },
        {
          "output_type": "stream",
          "name": "stdout",
          "text": [
            "\n",
            "\n"
          ]
        },
        {
          "output_type": "display_data",
          "data": {
            "text/plain": [
              "<IPython.core.display.Math object>"
            ],
            "text/latex": "$\\displaystyle Total \\ \\ Number \\ \\ of \\ \\ Elements \\ =256$"
          },
          "metadata": {}
        }
      ]
    },
    {
      "cell_type": "code",
      "source": [
        "# @title $Non-Units \\ \\ of \\ \\ Ring \\ \\ R \\ : \\ R^{*}$\n",
        "\n",
        "non_units = []  # List to store the non-units (zero divisors) of the quotient ring\n",
        "red_elts = {}   # Dictionary to store elements and their reduced forms\n",
        "constants = {}  # Dictionary to store constant reductions mod d0\n",
        "modulo = {}     # Dictionary to store reduced polynomials mod n\n",
        "\n",
        "count = 0  # Initialize counter to track progress\n",
        "\n",
        "# Loop through all elements in the quotient ring\n",
        "for f in QRing:\n",
        "    count = count + 1  # Increment the counter for each element\n",
        "    print(count, '/', len(QRing), sep=\"\", end=',')  # Display progress\n",
        "    if(count % 25 == 0):  # Print a new line after every 25 elements for better readability\n",
        "        print()\n",
        "\n",
        "    # Loop through the standard basis to check if 'f' is a zero divisor\n",
        "    for g in std_basis:\n",
        "        h0 = sp.expand(f * g)  # Multiply the current element 'f' with a basis element 'g' and expand\n",
        "\n",
        "        # Check if the expanded element h0 has already been reduced\n",
        "        if(h0 in red_elts.keys()):\n",
        "            h = red_elts[h0]  # If already reduced, use the stored result\n",
        "        else:\n",
        "            # Reduce the element using the Grobner basis, retaining the remainder (h1)\n",
        "            h1 = sp.reduced(h0, G, var, domain=ring, order=choose_order)[1]\n",
        "\n",
        "            # Check if the remainder h1 is constant and if it has already been reduced mod d0\n",
        "            if(h1 in constants.keys()):\n",
        "                h = constants[h1]  # If reduced before, use the stored value\n",
        "            else:\n",
        "                # If h1 is constant, reduce it mod d0 and store it in constants\n",
        "                if(h1.is_constant()):\n",
        "                    h = h1 % d0\n",
        "                    constants[h1] = h  # Store the result for future use\n",
        "                else:\n",
        "                    # If h1 is not constant, reduce it modulo n if not done already\n",
        "                    if(h1 in modulo.keys()):\n",
        "                        h = modulo[h1]  # Use the stored reduction if available\n",
        "                    else:\n",
        "                        # Use the modulo_n function to reduce the polynomial h1 mod n\n",
        "                        h = modulo_n(d0, h1)\n",
        "                        modulo[h1] = h  # Store the result for future use\n",
        "\n",
        "            # Store the reduced form of h0 in the red_elts dictionary\n",
        "            red_elts[h0] = h\n",
        "\n",
        "        # If the reduced element h is 0, f is a zero divisor (non-unit), so add it to the non_units list\n",
        "        if(h == 0):\n",
        "            non_units.append(f)\n",
        "            break  # No need to check further if f is already identified as a non-unit\n",
        "\n",
        "# Find the units (elements that are not zero divisors) in the quotient ring\n",
        "units = [elt for elt in QRing if elt not in non_units]  # Elements that are not in non_units are units"
      ],
      "metadata": {
        "cellView": "form",
        "colab": {
          "base_uri": "https://localhost:8080/",
          "height": 0
        },
        "id": "pc95kEVvZzHA",
        "outputId": "ea71ae55-690f-488f-867a-53bd3b60cafe"
      },
      "execution_count": 8,
      "outputs": [
        {
          "output_type": "stream",
          "name": "stdout",
          "text": [
            "1/256,2/256,3/256,4/256,5/256,6/256,7/256,8/256,9/256,10/256,11/256,12/256,13/256,14/256,15/256,16/256,17/256,18/256,19/256,20/256,21/256,22/256,23/256,24/256,25/256,\n",
            "26/256,27/256,28/256,29/256,30/256,31/256,32/256,33/256,34/256,35/256,36/256,37/256,38/256,39/256,40/256,41/256,42/256,43/256,44/256,45/256,46/256,47/256,48/256,49/256,50/256,\n",
            "51/256,52/256,53/256,54/256,55/256,56/256,57/256,58/256,59/256,60/256,61/256,62/256,63/256,64/256,65/256,66/256,67/256,68/256,69/256,70/256,71/256,72/256,73/256,74/256,75/256,\n",
            "76/256,77/256,78/256,79/256,80/256,81/256,82/256,83/256,84/256,85/256,86/256,87/256,88/256,89/256,90/256,91/256,92/256,93/256,94/256,95/256,96/256,97/256,98/256,99/256,100/256,\n",
            "101/256,102/256,103/256,104/256,105/256,106/256,107/256,108/256,109/256,110/256,111/256,112/256,113/256,114/256,115/256,116/256,117/256,118/256,119/256,120/256,121/256,122/256,123/256,124/256,125/256,\n",
            "126/256,127/256,128/256,129/256,130/256,131/256,132/256,133/256,134/256,135/256,136/256,137/256,138/256,139/256,140/256,141/256,142/256,143/256,144/256,145/256,146/256,147/256,148/256,149/256,150/256,\n",
            "151/256,152/256,153/256,154/256,155/256,156/256,157/256,158/256,159/256,160/256,161/256,162/256,163/256,164/256,165/256,166/256,167/256,168/256,169/256,170/256,171/256,172/256,173/256,174/256,175/256,\n",
            "176/256,177/256,178/256,179/256,180/256,181/256,182/256,183/256,184/256,185/256,186/256,187/256,188/256,189/256,190/256,191/256,192/256,193/256,194/256,195/256,196/256,197/256,198/256,199/256,200/256,\n",
            "201/256,202/256,203/256,204/256,205/256,206/256,207/256,208/256,209/256,210/256,211/256,212/256,213/256,214/256,215/256,216/256,217/256,218/256,219/256,220/256,221/256,222/256,223/256,224/256,225/256,\n",
            "226/256,227/256,228/256,229/256,230/256,231/256,232/256,233/256,234/256,235/256,236/256,237/256,238/256,239/256,240/256,241/256,242/256,243/256,244/256,245/256,246/256,247/256,248/256,249/256,250/256,\n",
            "251/256,252/256,253/256,254/256,255/256,256/256,"
          ]
        }
      ]
    },
    {
      "cell_type": "code",
      "source": [
        "# @title $Associate \\ \\ Classes \\ \\ of \\ \\ R$ { form-width: \"20%\" }\n",
        "# @markdown $ [a]=[b]$ $ \\space iff \\space$ $ a $ $=$ $ub$\n",
        "\n",
        "# Units of the quotient ring are those elements that are not zero divisors\n",
        "units = [elt for elt in QRing if elt not in non_units]  # Units of the ring\n",
        "\n",
        "# Dictionary to store associate classes for non-units\n",
        "associates = {}\n",
        "count = 0  # Counter to track progress\n",
        "\n",
        "# Loop through all non-units (zero divisors) to find their associates\n",
        "for elt1 in non_units:\n",
        "    count = count + 1  # Increment the counter\n",
        "    print(count, '/', len(non_units), sep=\"\", end=',')  # Display progress\n",
        "    if(count % 25 == 0):  # Print a new line every 25 iterations\n",
        "        print()\n",
        "\n",
        "    associates[elt1] = set()  # Initialize the set for the current element's associates\n",
        "\n",
        "    # Multiply elt1 by each unit in the ring to find its associates\n",
        "    for elt2 in units:\n",
        "        h0 = sp.expand(elt1 * elt2)  # Multiply the non-unit with a unit and expand\n",
        "\n",
        "        # If the product h0 has already been reduced, use the stored value\n",
        "        if(h0 in red_elts.keys()):\n",
        "            h = red_elts[h0]\n",
        "        else:\n",
        "            # Reduce the product h0 using the Grobner basis, keeping only the remainder h1\n",
        "            h1 = sp.reduced(h0, G, var, domain=ring, order=choose_order)[1]\n",
        "\n",
        "            # If the remainder h1 is a constant and has been reduced mod d0, use the stored result\n",
        "            if(h1 in constants.keys()):\n",
        "                h = constants[h1]\n",
        "            else:\n",
        "                # Check if h1 is a constant number by inspecting its type\n",
        "                if(str(type(h1)).split('.')[:3] == [\"<class 'sympy\", 'core', 'numbers']):\n",
        "                    h = h1 % d0  # Reduce the constant mod d0\n",
        "                    constants[h1] = h  # Store the reduced result for future use\n",
        "                else:\n",
        "                    # If h1 is not constant, reduce it mod n using modulo_n function\n",
        "                    h = modulo_n(d0, h1)\n",
        "                    modulo[h1] = h  # Store the result\n",
        "\n",
        "        # Store the reduced form of h0 in the dictionary red_elts\n",
        "        red_elts[h0] = h\n",
        "        # Add the reduced result to the associate class of elt1\n",
        "        associates[elt1].add(h)\n",
        "\n",
        "print()\n",
        "\n",
        "# Convert sets of associates into lists for easier processing\n",
        "for elt in associates:\n",
        "    associates[elt] = list(associates[elt])\n",
        "\n",
        "# Remove any associate classes that only contain the element [0]\n",
        "temp = []\n",
        "for elt in associates:\n",
        "    if (associates[elt] == list([0])):\n",
        "        temp.append(elt)\n",
        "\n",
        "# Remove elements with associate class [0] from the associates dictionary\n",
        "for elt in temp:\n",
        "    del associates[elt]\n",
        "\n",
        "print()\n",
        "\n",
        "# Create a list of non-units (zero divisors) that have non-trivial associate classes\n",
        "zn_star = []  # Vertices for compressed associate class graph\n",
        "for elt in associates:\n",
        "    zn_star.append(elt)\n",
        "\n",
        "# Find equivalence classes of associates\n",
        "eq_class = []  # List of equivalence classes\n",
        "i = 0\n",
        "while (len(zn_star) >= 1):  # While there are still non-units left to process\n",
        "    elt1 = zn_star[i]  # Take the first element in zn_star\n",
        "    temp = [elt1]  # Initialize a temporary list for the equivalence class\n",
        "    zn_star.remove(elt1)  # Remove elt1 from zn_star\n",
        "\n",
        "    # Find all elements with the same associate class as elt1\n",
        "    for elt2 in associates:\n",
        "        if (elt1 != elt2 and set(associates[elt1]) == set(associates[elt2])):\n",
        "            temp.append(elt2)  # Add elt2 to the equivalence class\n",
        "            zn_star.remove(elt2)  # Remove elt2 from zn_star\n",
        "\n",
        "    eq_class.append(temp)  # Add the found equivalence class to the list\n",
        "\n",
        "# Create a dictionary to store the representative of each equivalence class\n",
        "repAsso_class = {}  # Representative of each equivalence class and its corresponding equivalence class\n",
        "for i in range(len(eq_class)):\n",
        "    cls = eq_class[i]\n",
        "    repAsso_class[cls[0]] = cls  # Use the first element of the class as the representative"
      ],
      "metadata": {
        "cellView": "form",
        "colab": {
          "base_uri": "https://localhost:8080/",
          "height": 0
        },
        "id": "kpBFk9GyaLuM",
        "outputId": "ad87b9dc-5136-4863-9707-71a3b3b4d21d"
      },
      "execution_count": 9,
      "outputs": [
        {
          "output_type": "stream",
          "name": "stdout",
          "text": [
            "1/128,2/128,3/128,4/128,5/128,6/128,7/128,8/128,9/128,10/128,11/128,12/128,13/128,14/128,15/128,16/128,17/128,18/128,19/128,20/128,21/128,22/128,23/128,24/128,25/128,\n",
            "26/128,27/128,28/128,29/128,30/128,31/128,32/128,33/128,34/128,35/128,36/128,37/128,38/128,39/128,40/128,41/128,42/128,43/128,44/128,45/128,46/128,47/128,48/128,49/128,50/128,\n",
            "51/128,52/128,53/128,54/128,55/128,56/128,57/128,58/128,59/128,60/128,61/128,62/128,63/128,64/128,65/128,66/128,67/128,68/128,69/128,70/128,71/128,72/128,73/128,74/128,75/128,\n",
            "76/128,77/128,78/128,79/128,80/128,81/128,82/128,83/128,84/128,85/128,86/128,87/128,88/128,89/128,90/128,91/128,92/128,93/128,94/128,95/128,96/128,97/128,98/128,99/128,100/128,\n",
            "101/128,102/128,103/128,104/128,105/128,106/128,107/128,108/128,109/128,110/128,111/128,112/128,113/128,114/128,115/128,116/128,117/128,118/128,119/128,120/128,121/128,122/128,123/128,124/128,125/128,\n",
            "126/128,127/128,128/128,\n",
            "\n"
          ]
        }
      ]
    },
    {
      "cell_type": "code",
      "source": [
        "# @title $Generators \\ \\ of \\ \\ Ideals$\n",
        "\n",
        "# Extract the keys from the repAsso_class dictionary, which represent the generators of the ideals\n",
        "idl_gens = repAsso_class.keys()\n",
        "\n",
        "# Display the list of generators in LaTeX format\n",
        "display(Math(sp.latex(list(idl_gens))))\n",
        "print()\n",
        "\n",
        "# Display the number of generators in the ideal\n",
        "display(Math(r'No. \\ \\ of \\ \\ Generators \\ :' + sp.latex(len(idl_gens))))"
      ],
      "metadata": {
        "colab": {
          "base_uri": "https://localhost:8080/",
          "height": 98
        },
        "cellView": "form",
        "id": "fKS5FyLDao6S",
        "outputId": "af5a28c4-d787-4d43-8e5f-6af68ae743c7"
      },
      "execution_count": 10,
      "outputs": [
        {
          "output_type": "display_data",
          "data": {
            "text/plain": [
              "<IPython.core.display.Math object>"
            ],
            "text/latex": "$\\displaystyle \\left[ z, \\  y, \\  y + z, \\  y z, \\  x, \\  x + z, \\  x + y, \\  x + y + z, \\  x + y z, \\  x + y z + z, \\  x + y z + y, \\  x + y z + y + z, \\  x z, \\  x z + y, \\  x z + y + z, \\  x z + y z, \\  x y, \\  x y + z, \\  x y + y z, \\  x y + x z, \\  x y + x z + y z, \\  x y z\\right]$"
          },
          "metadata": {}
        },
        {
          "output_type": "stream",
          "name": "stdout",
          "text": [
            "\n"
          ]
        },
        {
          "output_type": "display_data",
          "data": {
            "text/plain": [
              "<IPython.core.display.Math object>"
            ],
            "text/latex": "$\\displaystyle No. \\ \\ of \\ \\ Generators \\ :22$"
          },
          "metadata": {}
        }
      ]
    },
    {
      "cell_type": "code",
      "source": [
        "# @title $Principal \\ \\ Ideals$\n",
        "\n",
        "Pr_ideals = {}  # Dictionary to store principal ideals, which are all R-multiples of the representatives (generators) of the orbits\n",
        "All_ideals = {} # Dictionary to store all unique ideals\n",
        "\n",
        "# Loop through each generator of the ideal (idl_gens)\n",
        "for g in idl_gens:\n",
        "    temp = []  # Temporary list to store all elements of the principal ideal generated by g\n",
        "    for e in QRing:  # Iterate over all elements in the quotient ring (QRing)\n",
        "        h0 = sp.expand(g * e)  # Multiply generator g by element e and expand the result\n",
        "\n",
        "        # If the result h0 has already been reduced, retrieve its reduced form from red_elts\n",
        "        if(h0 in red_elts.keys()):\n",
        "            h = red_elts[h0]\n",
        "        else:\n",
        "            # If h0 is not already reduced, reduce it using the Grobner basis\n",
        "            h = sp.reduced(h0, G, var, domain=ring, order=choose_order)[1]\n",
        "\n",
        "            # If the reduced result is 0, store it in red_elts\n",
        "            if(h == 0):\n",
        "                red_elts[h0] = h\n",
        "            else:\n",
        "                # Otherwise, compute the modulo n reduction and store it in red_elts\n",
        "                h = modulo_n(d0, h)\n",
        "                red_elts[h0] = h\n",
        "\n",
        "        # If the reduced result is not already in the temp list, add it\n",
        "        if(h not in temp):\n",
        "            temp.append(h)\n",
        "\n",
        "    # Check if the current ideal (temp) is already in All_ideals\n",
        "    check = 1\n",
        "    for ideal0 in All_ideals.values():\n",
        "        if(set(temp) == set(ideal0)):  # If an identical ideal exists, mark it\n",
        "            check = 0\n",
        "            break\n",
        "\n",
        "    # If the ideal is unique, add it to the Pr_ideals and All_ideals dictionaries\n",
        "    if(check == 1):\n",
        "        Pr_ideals[g] = temp  # Store the principal ideal generated by g\n",
        "        All_ideals[tuple((g,))] = set(temp)  # Store the unique set of ideal elements\n",
        "\n",
        "# Display all principal ideals in a readable format\n",
        "display(Math(r'All \\ \\ Principal \\ \\ Ideals:'))\n",
        "for key in Pr_ideals.keys():\n",
        "    display(Math(r'{Generator \\ : \\ ' + sp.latex(key)+r'}'))  # Display the generator of the ideal\n",
        "    display(Math(r'Size ='+sp.latex(len(Pr_ideals[key]))))  # Display the size of the ideal\n",
        "    print('------------------------------------------------------')\n",
        "\n",
        "print()\n",
        "\n",
        "# Display the total number of principal ideals\n",
        "display(Math(r'No. \\ \\ of \\ \\ Principal \\ \\ Ideals \\ :'+sp.latex(len(Pr_ideals.keys()))))"
      ],
      "metadata": {
        "cellView": "form",
        "colab": {
          "base_uri": "https://localhost:8080/",
          "height": 1397
        },
        "id": "yhRXDsMWbSJC",
        "outputId": "abc0b111-6962-43b0-a60f-d02b6ed56a86"
      },
      "execution_count": 11,
      "outputs": [
        {
          "output_type": "display_data",
          "data": {
            "text/plain": [
              "<IPython.core.display.Math object>"
            ],
            "text/latex": "$\\displaystyle All \\ \\ Principal \\ \\ Ideals:$"
          },
          "metadata": {}
        },
        {
          "output_type": "display_data",
          "data": {
            "text/plain": [
              "<IPython.core.display.Math object>"
            ],
            "text/latex": "$\\displaystyle {Generator \\ : \\ z}$"
          },
          "metadata": {}
        },
        {
          "output_type": "display_data",
          "data": {
            "text/plain": [
              "<IPython.core.display.Math object>"
            ],
            "text/latex": "$\\displaystyle Size =16$"
          },
          "metadata": {}
        },
        {
          "output_type": "stream",
          "name": "stdout",
          "text": [
            "------------------------------------------------------\n"
          ]
        },
        {
          "output_type": "display_data",
          "data": {
            "text/plain": [
              "<IPython.core.display.Math object>"
            ],
            "text/latex": "$\\displaystyle {Generator \\ : \\ y}$"
          },
          "metadata": {}
        },
        {
          "output_type": "display_data",
          "data": {
            "text/plain": [
              "<IPython.core.display.Math object>"
            ],
            "text/latex": "$\\displaystyle Size =16$"
          },
          "metadata": {}
        },
        {
          "output_type": "stream",
          "name": "stdout",
          "text": [
            "------------------------------------------------------\n"
          ]
        },
        {
          "output_type": "display_data",
          "data": {
            "text/plain": [
              "<IPython.core.display.Math object>"
            ],
            "text/latex": "$\\displaystyle {Generator \\ : \\ y + z}$"
          },
          "metadata": {}
        },
        {
          "output_type": "display_data",
          "data": {
            "text/plain": [
              "<IPython.core.display.Math object>"
            ],
            "text/latex": "$\\displaystyle Size =16$"
          },
          "metadata": {}
        },
        {
          "output_type": "stream",
          "name": "stdout",
          "text": [
            "------------------------------------------------------\n"
          ]
        },
        {
          "output_type": "display_data",
          "data": {
            "text/plain": [
              "<IPython.core.display.Math object>"
            ],
            "text/latex": "$\\displaystyle {Generator \\ : \\ y z}$"
          },
          "metadata": {}
        },
        {
          "output_type": "display_data",
          "data": {
            "text/plain": [
              "<IPython.core.display.Math object>"
            ],
            "text/latex": "$\\displaystyle Size =4$"
          },
          "metadata": {}
        },
        {
          "output_type": "stream",
          "name": "stdout",
          "text": [
            "------------------------------------------------------\n"
          ]
        },
        {
          "output_type": "display_data",
          "data": {
            "text/plain": [
              "<IPython.core.display.Math object>"
            ],
            "text/latex": "$\\displaystyle {Generator \\ : \\ x}$"
          },
          "metadata": {}
        },
        {
          "output_type": "display_data",
          "data": {
            "text/plain": [
              "<IPython.core.display.Math object>"
            ],
            "text/latex": "$\\displaystyle Size =16$"
          },
          "metadata": {}
        },
        {
          "output_type": "stream",
          "name": "stdout",
          "text": [
            "------------------------------------------------------\n"
          ]
        },
        {
          "output_type": "display_data",
          "data": {
            "text/plain": [
              "<IPython.core.display.Math object>"
            ],
            "text/latex": "$\\displaystyle {Generator \\ : \\ x + z}$"
          },
          "metadata": {}
        },
        {
          "output_type": "display_data",
          "data": {
            "text/plain": [
              "<IPython.core.display.Math object>"
            ],
            "text/latex": "$\\displaystyle Size =16$"
          },
          "metadata": {}
        },
        {
          "output_type": "stream",
          "name": "stdout",
          "text": [
            "------------------------------------------------------\n"
          ]
        },
        {
          "output_type": "display_data",
          "data": {
            "text/plain": [
              "<IPython.core.display.Math object>"
            ],
            "text/latex": "$\\displaystyle {Generator \\ : \\ x + y}$"
          },
          "metadata": {}
        },
        {
          "output_type": "display_data",
          "data": {
            "text/plain": [
              "<IPython.core.display.Math object>"
            ],
            "text/latex": "$\\displaystyle Size =16$"
          },
          "metadata": {}
        },
        {
          "output_type": "stream",
          "name": "stdout",
          "text": [
            "------------------------------------------------------\n"
          ]
        },
        {
          "output_type": "display_data",
          "data": {
            "text/plain": [
              "<IPython.core.display.Math object>"
            ],
            "text/latex": "$\\displaystyle {Generator \\ : \\ x + y + z}$"
          },
          "metadata": {}
        },
        {
          "output_type": "display_data",
          "data": {
            "text/plain": [
              "<IPython.core.display.Math object>"
            ],
            "text/latex": "$\\displaystyle Size =16$"
          },
          "metadata": {}
        },
        {
          "output_type": "stream",
          "name": "stdout",
          "text": [
            "------------------------------------------------------\n"
          ]
        },
        {
          "output_type": "display_data",
          "data": {
            "text/plain": [
              "<IPython.core.display.Math object>"
            ],
            "text/latex": "$\\displaystyle {Generator \\ : \\ x + y z}$"
          },
          "metadata": {}
        },
        {
          "output_type": "display_data",
          "data": {
            "text/plain": [
              "<IPython.core.display.Math object>"
            ],
            "text/latex": "$\\displaystyle Size =16$"
          },
          "metadata": {}
        },
        {
          "output_type": "stream",
          "name": "stdout",
          "text": [
            "------------------------------------------------------\n"
          ]
        },
        {
          "output_type": "display_data",
          "data": {
            "text/plain": [
              "<IPython.core.display.Math object>"
            ],
            "text/latex": "$\\displaystyle {Generator \\ : \\ x + y z + z}$"
          },
          "metadata": {}
        },
        {
          "output_type": "display_data",
          "data": {
            "text/plain": [
              "<IPython.core.display.Math object>"
            ],
            "text/latex": "$\\displaystyle Size =16$"
          },
          "metadata": {}
        },
        {
          "output_type": "stream",
          "name": "stdout",
          "text": [
            "------------------------------------------------------\n"
          ]
        },
        {
          "output_type": "display_data",
          "data": {
            "text/plain": [
              "<IPython.core.display.Math object>"
            ],
            "text/latex": "$\\displaystyle {Generator \\ : \\ x + y z + y}$"
          },
          "metadata": {}
        },
        {
          "output_type": "display_data",
          "data": {
            "text/plain": [
              "<IPython.core.display.Math object>"
            ],
            "text/latex": "$\\displaystyle Size =16$"
          },
          "metadata": {}
        },
        {
          "output_type": "stream",
          "name": "stdout",
          "text": [
            "------------------------------------------------------\n"
          ]
        },
        {
          "output_type": "display_data",
          "data": {
            "text/plain": [
              "<IPython.core.display.Math object>"
            ],
            "text/latex": "$\\displaystyle {Generator \\ : \\ x + y z + y + z}$"
          },
          "metadata": {}
        },
        {
          "output_type": "display_data",
          "data": {
            "text/plain": [
              "<IPython.core.display.Math object>"
            ],
            "text/latex": "$\\displaystyle Size =16$"
          },
          "metadata": {}
        },
        {
          "output_type": "stream",
          "name": "stdout",
          "text": [
            "------------------------------------------------------\n"
          ]
        },
        {
          "output_type": "display_data",
          "data": {
            "text/plain": [
              "<IPython.core.display.Math object>"
            ],
            "text/latex": "$\\displaystyle {Generator \\ : \\ x z}$"
          },
          "metadata": {}
        },
        {
          "output_type": "display_data",
          "data": {
            "text/plain": [
              "<IPython.core.display.Math object>"
            ],
            "text/latex": "$\\displaystyle Size =4$"
          },
          "metadata": {}
        },
        {
          "output_type": "stream",
          "name": "stdout",
          "text": [
            "------------------------------------------------------\n"
          ]
        },
        {
          "output_type": "display_data",
          "data": {
            "text/plain": [
              "<IPython.core.display.Math object>"
            ],
            "text/latex": "$\\displaystyle {Generator \\ : \\ x z + y}$"
          },
          "metadata": {}
        },
        {
          "output_type": "display_data",
          "data": {
            "text/plain": [
              "<IPython.core.display.Math object>"
            ],
            "text/latex": "$\\displaystyle Size =16$"
          },
          "metadata": {}
        },
        {
          "output_type": "stream",
          "name": "stdout",
          "text": [
            "------------------------------------------------------\n"
          ]
        },
        {
          "output_type": "display_data",
          "data": {
            "text/plain": [
              "<IPython.core.display.Math object>"
            ],
            "text/latex": "$\\displaystyle {Generator \\ : \\ x z + y + z}$"
          },
          "metadata": {}
        },
        {
          "output_type": "display_data",
          "data": {
            "text/plain": [
              "<IPython.core.display.Math object>"
            ],
            "text/latex": "$\\displaystyle Size =16$"
          },
          "metadata": {}
        },
        {
          "output_type": "stream",
          "name": "stdout",
          "text": [
            "------------------------------------------------------\n"
          ]
        },
        {
          "output_type": "display_data",
          "data": {
            "text/plain": [
              "<IPython.core.display.Math object>"
            ],
            "text/latex": "$\\displaystyle {Generator \\ : \\ x z + y z}$"
          },
          "metadata": {}
        },
        {
          "output_type": "display_data",
          "data": {
            "text/plain": [
              "<IPython.core.display.Math object>"
            ],
            "text/latex": "$\\displaystyle Size =4$"
          },
          "metadata": {}
        },
        {
          "output_type": "stream",
          "name": "stdout",
          "text": [
            "------------------------------------------------------\n"
          ]
        },
        {
          "output_type": "display_data",
          "data": {
            "text/plain": [
              "<IPython.core.display.Math object>"
            ],
            "text/latex": "$\\displaystyle {Generator \\ : \\ x y}$"
          },
          "metadata": {}
        },
        {
          "output_type": "display_data",
          "data": {
            "text/plain": [
              "<IPython.core.display.Math object>"
            ],
            "text/latex": "$\\displaystyle Size =4$"
          },
          "metadata": {}
        },
        {
          "output_type": "stream",
          "name": "stdout",
          "text": [
            "------------------------------------------------------\n"
          ]
        },
        {
          "output_type": "display_data",
          "data": {
            "text/plain": [
              "<IPython.core.display.Math object>"
            ],
            "text/latex": "$\\displaystyle {Generator \\ : \\ x y + z}$"
          },
          "metadata": {}
        },
        {
          "output_type": "display_data",
          "data": {
            "text/plain": [
              "<IPython.core.display.Math object>"
            ],
            "text/latex": "$\\displaystyle Size =16$"
          },
          "metadata": {}
        },
        {
          "output_type": "stream",
          "name": "stdout",
          "text": [
            "------------------------------------------------------\n"
          ]
        },
        {
          "output_type": "display_data",
          "data": {
            "text/plain": [
              "<IPython.core.display.Math object>"
            ],
            "text/latex": "$\\displaystyle {Generator \\ : \\ x y + y z}$"
          },
          "metadata": {}
        },
        {
          "output_type": "display_data",
          "data": {
            "text/plain": [
              "<IPython.core.display.Math object>"
            ],
            "text/latex": "$\\displaystyle Size =4$"
          },
          "metadata": {}
        },
        {
          "output_type": "stream",
          "name": "stdout",
          "text": [
            "------------------------------------------------------\n"
          ]
        },
        {
          "output_type": "display_data",
          "data": {
            "text/plain": [
              "<IPython.core.display.Math object>"
            ],
            "text/latex": "$\\displaystyle {Generator \\ : \\ x y + x z}$"
          },
          "metadata": {}
        },
        {
          "output_type": "display_data",
          "data": {
            "text/plain": [
              "<IPython.core.display.Math object>"
            ],
            "text/latex": "$\\displaystyle Size =4$"
          },
          "metadata": {}
        },
        {
          "output_type": "stream",
          "name": "stdout",
          "text": [
            "------------------------------------------------------\n"
          ]
        },
        {
          "output_type": "display_data",
          "data": {
            "text/plain": [
              "<IPython.core.display.Math object>"
            ],
            "text/latex": "$\\displaystyle {Generator \\ : \\ x y + x z + y z}$"
          },
          "metadata": {}
        },
        {
          "output_type": "display_data",
          "data": {
            "text/plain": [
              "<IPython.core.display.Math object>"
            ],
            "text/latex": "$\\displaystyle Size =4$"
          },
          "metadata": {}
        },
        {
          "output_type": "stream",
          "name": "stdout",
          "text": [
            "------------------------------------------------------\n"
          ]
        },
        {
          "output_type": "display_data",
          "data": {
            "text/plain": [
              "<IPython.core.display.Math object>"
            ],
            "text/latex": "$\\displaystyle {Generator \\ : \\ x y z}$"
          },
          "metadata": {}
        },
        {
          "output_type": "display_data",
          "data": {
            "text/plain": [
              "<IPython.core.display.Math object>"
            ],
            "text/latex": "$\\displaystyle Size =2$"
          },
          "metadata": {}
        },
        {
          "output_type": "stream",
          "name": "stdout",
          "text": [
            "------------------------------------------------------\n",
            "\n"
          ]
        },
        {
          "output_type": "display_data",
          "data": {
            "text/plain": [
              "<IPython.core.display.Math object>"
            ],
            "text/latex": "$\\displaystyle No. \\ \\ of \\ \\ Principal \\ \\ Ideals \\ :22$"
          },
          "metadata": {}
        }
      ]
    },
    {
      "cell_type": "markdown",
      "source": [
        "# $Doubly \\ \\ Generated \\ \\ Idels$"
      ],
      "metadata": {
        "id": "gsBzVDLliFjo"
      }
    },
    {
      "cell_type": "code",
      "source": [
        "# @title $All \\ \\ two \\ \\ combinations \\ \\ of \\ \\ generators$\n",
        "\n",
        "# Remove principal ideals that have cardinality equal to |m| (m-maximal ideal)\n",
        "pr_idl_gens = list(idl_gens)  # Create a list of generators for principal ideals\n",
        "N = len(non_units)  # Number of non-units in the quotient ring\n",
        "\n",
        "# Determine the length of the ideal to exclude from pr_idl_gens\n",
        "if(N % 2 == 0):\n",
        "    len_idl = N // 2  # If N is even, use half of N\n",
        "else:\n",
        "    i = int(np.ceil(N / 2))  # If N is odd, find the largest divisor of N that is less than or equal to N / 2\n",
        "    while(N % i != 0):\n",
        "        i = i - 1\n",
        "    len_idl = i\n",
        "\n",
        "# Remove principal ideals with the specified cardinality from pr_idl_gens\n",
        "for key in Pr_ideals.keys():\n",
        "    if(len(Pr_ideals[key]) == len_idl):\n",
        "        pr_idl_gens.remove(key)\n",
        "\n",
        "# Number of generators after filtering\n",
        "len_gens = len(pr_idl_gens)  # The number of remaining generators\n",
        "\n",
        "# Generate all possible two combinations of the remaining generators\n",
        "two_comb = []  # List to store all combinations of two generators\n",
        "two_comb.extend(itertools.combinations(pr_idl_gens, 2))  # Compute combinations\n",
        "\n",
        "# Display the number of all possible two combinations\n",
        "display(Math(r'No. \\ \\ of \\ \\ all \\ \\ possible \\ two \\ combinations \\ : \\ ' + sp.latex(len(two_comb))))"
      ],
      "metadata": {
        "colab": {
          "base_uri": "https://localhost:8080/",
          "height": 39
        },
        "cellView": "form",
        "id": "cnY33hBSbtdB",
        "outputId": "66af4135-d8e4-47d9-b651-09d16d335443"
      },
      "execution_count": 12,
      "outputs": [
        {
          "output_type": "display_data",
          "data": {
            "text/plain": [
              "<IPython.core.display.Math object>"
            ],
            "text/latex": "$\\displaystyle No. \\ \\ of \\ \\ all \\ \\ possible \\ two \\ combinations \\ : \\ 231$"
          },
          "metadata": {}
        }
      ]
    },
    {
      "cell_type": "code",
      "source": [
        "# @title $Ideals \\ \\ generated \\ \\ by \\ \\ two \\ \\ elements$\n",
        "\n",
        "# Initialize list to store maximum ideals generated by single elements\n",
        "gen_max_idl = [set(X)]\n",
        "k_gen_ideals = {}  # Dictionary to store all ideals generated by two elements\n",
        "\n",
        "if(True):  # Conditional block to generate ideals by two elements\n",
        "    for gens in two_comb:  # Iterate over each pair of generators\n",
        "        temp_list = [Pr_ideals[elt] for elt in gens]  # List of principal ideals generated by the current pair of generators\n",
        "        all_two_comb = list(set(list(itertools.product(*temp_list, repeat=1))))  # Compute all combinations of ideals\n",
        "        temp = []  # Temporary list to store the ideals generated by the current pair\n",
        "        check = 1  # Flag to indicate if the ideal is new\n",
        "\n",
        "        for tup0 in all_two_comb:  # Iterate over each combination of ideals\n",
        "            if(set(tup0) in gen_max_idl):  # Check if the ideal combination is already in gen_max_idl\n",
        "                check = 0\n",
        "            else:\n",
        "                if(len(temp) > len_idl or set(X).issubset(set(temp))):  # If the ideal is maximal or contains all variables\n",
        "                    gen_max_idl.append(set(gens))  # Add the generators to gen_max_idl\n",
        "                    check = 0\n",
        "                    break\n",
        "                else:\n",
        "                    h0 = sp.expand(sum(tup0))  # Expand the sum of the ideals in the combination\n",
        "\n",
        "                    # Reduce the expanded ideal\n",
        "                    if(h0 in red_elts.keys()):\n",
        "                        h = red_elts[h0]  # Retrieve precomputed reduced form\n",
        "                    else:\n",
        "                        h = sp.reduced(h0, G, var, domain=ring, order=choose_order)[1]\n",
        "                        if(h == 0):\n",
        "                            red_elts[h0] = h\n",
        "                        else:\n",
        "                            h = modulo_n(d0, h)\n",
        "                            red_elts[h0] = h\n",
        "\n",
        "                    if(h not in temp):  # Add new ideals to the temporary list\n",
        "                        temp.append(h)\n",
        "\n",
        "        if(check == 1):  # If the ideal combination is new\n",
        "            for ideal0 in All_ideals.values():\n",
        "                if(set(temp) == set(ideal0)):  # Check if the ideal matches an existing one\n",
        "                    check = 0\n",
        "                    break\n",
        "\n",
        "        if(check == 1):  # If the ideal is unique\n",
        "            k_gen_ideals[gens] = set(temp)  # Store the ideal in k_gen_ideals\n",
        "            All_ideals[gens] = set(temp)  # Store the ideal in All_ideals\n",
        "\n",
        "# Display all generated ideals by two elements\n",
        "display(Math(r'All \\ \\ two \\ \\ Generated \\ \\ Ideals:'))\n",
        "for key in k_gen_ideals.keys():\n",
        "    display(Math(r'{Generator \\ : \\ ' + sp.latex(key) + r'}'))  # Display the generator pair\n",
        "    display(r'Size = ' + sp.latex(len(k_gen_ideals[key])))  # Display the size of the generated ideal\n",
        "    print('------------------------------------------------------')\n",
        "\n",
        "print()\n",
        "\n",
        "# Display the total number of distinct ideals generated by two elements\n",
        "display(Math(r'No. \\ \\ of \\ \\ Doubly \\ \\ Generated \\ \\ Ideals \\ : ' + sp.latex(len(k_gen_ideals.keys()))))"
      ],
      "metadata": {
        "colab": {
          "base_uri": "https://localhost:8080/",
          "height": 1272
        },
        "cellView": "form",
        "id": "foHApZm-cEME",
        "outputId": "d70dcbfa-edba-4d6c-db82-109cdf45a008"
      },
      "execution_count": 13,
      "outputs": [
        {
          "output_type": "display_data",
          "data": {
            "text/plain": [
              "<IPython.core.display.Math object>"
            ],
            "text/latex": "$\\displaystyle All \\ \\ two \\ \\ Generated \\ \\ Ideals:$"
          },
          "metadata": {}
        },
        {
          "output_type": "display_data",
          "data": {
            "text/plain": [
              "<IPython.core.display.Math object>"
            ],
            "text/latex": "$\\displaystyle {Generator \\ : \\ \\left( z, \\  y\\right)}$"
          },
          "metadata": {}
        },
        {
          "output_type": "display_data",
          "data": {
            "text/plain": [
              "'Size = 64'"
            ],
            "application/vnd.google.colaboratory.intrinsic+json": {
              "type": "string"
            }
          },
          "metadata": {}
        },
        {
          "output_type": "stream",
          "name": "stdout",
          "text": [
            "------------------------------------------------------\n"
          ]
        },
        {
          "output_type": "display_data",
          "data": {
            "text/plain": [
              "<IPython.core.display.Math object>"
            ],
            "text/latex": "$\\displaystyle {Generator \\ : \\ \\left( z, \\  x\\right)}$"
          },
          "metadata": {}
        },
        {
          "output_type": "display_data",
          "data": {
            "text/plain": [
              "'Size = 64'"
            ],
            "application/vnd.google.colaboratory.intrinsic+json": {
              "type": "string"
            }
          },
          "metadata": {}
        },
        {
          "output_type": "stream",
          "name": "stdout",
          "text": [
            "------------------------------------------------------\n"
          ]
        },
        {
          "output_type": "display_data",
          "data": {
            "text/plain": [
              "<IPython.core.display.Math object>"
            ],
            "text/latex": "$\\displaystyle {Generator \\ : \\ \\left( z, \\  x + y\\right)}$"
          },
          "metadata": {}
        },
        {
          "output_type": "display_data",
          "data": {
            "text/plain": [
              "'Size = 64'"
            ],
            "application/vnd.google.colaboratory.intrinsic+json": {
              "type": "string"
            }
          },
          "metadata": {}
        },
        {
          "output_type": "stream",
          "name": "stdout",
          "text": [
            "------------------------------------------------------\n"
          ]
        },
        {
          "output_type": "display_data",
          "data": {
            "text/plain": [
              "<IPython.core.display.Math object>"
            ],
            "text/latex": "$\\displaystyle {Generator \\ : \\ \\left( z, \\  x y\\right)}$"
          },
          "metadata": {}
        },
        {
          "output_type": "display_data",
          "data": {
            "text/plain": [
              "'Size = 32'"
            ],
            "application/vnd.google.colaboratory.intrinsic+json": {
              "type": "string"
            }
          },
          "metadata": {}
        },
        {
          "output_type": "stream",
          "name": "stdout",
          "text": [
            "------------------------------------------------------\n"
          ]
        },
        {
          "output_type": "display_data",
          "data": {
            "text/plain": [
              "<IPython.core.display.Math object>"
            ],
            "text/latex": "$\\displaystyle {Generator \\ : \\ \\left( y, \\  x\\right)}$"
          },
          "metadata": {}
        },
        {
          "output_type": "display_data",
          "data": {
            "text/plain": [
              "'Size = 64'"
            ],
            "application/vnd.google.colaboratory.intrinsic+json": {
              "type": "string"
            }
          },
          "metadata": {}
        },
        {
          "output_type": "stream",
          "name": "stdout",
          "text": [
            "------------------------------------------------------\n"
          ]
        },
        {
          "output_type": "display_data",
          "data": {
            "text/plain": [
              "<IPython.core.display.Math object>"
            ],
            "text/latex": "$\\displaystyle {Generator \\ : \\ \\left( y, \\  x + z\\right)}$"
          },
          "metadata": {}
        },
        {
          "output_type": "display_data",
          "data": {
            "text/plain": [
              "'Size = 64'"
            ],
            "application/vnd.google.colaboratory.intrinsic+json": {
              "type": "string"
            }
          },
          "metadata": {}
        },
        {
          "output_type": "stream",
          "name": "stdout",
          "text": [
            "------------------------------------------------------\n"
          ]
        },
        {
          "output_type": "display_data",
          "data": {
            "text/plain": [
              "<IPython.core.display.Math object>"
            ],
            "text/latex": "$\\displaystyle {Generator \\ : \\ \\left( y, \\  x z\\right)}$"
          },
          "metadata": {}
        },
        {
          "output_type": "display_data",
          "data": {
            "text/plain": [
              "'Size = 32'"
            ],
            "application/vnd.google.colaboratory.intrinsic+json": {
              "type": "string"
            }
          },
          "metadata": {}
        },
        {
          "output_type": "stream",
          "name": "stdout",
          "text": [
            "------------------------------------------------------\n"
          ]
        },
        {
          "output_type": "display_data",
          "data": {
            "text/plain": [
              "<IPython.core.display.Math object>"
            ],
            "text/latex": "$\\displaystyle {Generator \\ : \\ \\left( y + z, \\  x\\right)}$"
          },
          "metadata": {}
        },
        {
          "output_type": "display_data",
          "data": {
            "text/plain": [
              "'Size = 64'"
            ],
            "application/vnd.google.colaboratory.intrinsic+json": {
              "type": "string"
            }
          },
          "metadata": {}
        },
        {
          "output_type": "stream",
          "name": "stdout",
          "text": [
            "------------------------------------------------------\n"
          ]
        },
        {
          "output_type": "display_data",
          "data": {
            "text/plain": [
              "<IPython.core.display.Math object>"
            ],
            "text/latex": "$\\displaystyle {Generator \\ : \\ \\left( y + z, \\  x + z\\right)}$"
          },
          "metadata": {}
        },
        {
          "output_type": "display_data",
          "data": {
            "text/plain": [
              "'Size = 64'"
            ],
            "application/vnd.google.colaboratory.intrinsic+json": {
              "type": "string"
            }
          },
          "metadata": {}
        },
        {
          "output_type": "stream",
          "name": "stdout",
          "text": [
            "------------------------------------------------------\n"
          ]
        },
        {
          "output_type": "display_data",
          "data": {
            "text/plain": [
              "<IPython.core.display.Math object>"
            ],
            "text/latex": "$\\displaystyle {Generator \\ : \\ \\left( y + z, \\  x z\\right)}$"
          },
          "metadata": {}
        },
        {
          "output_type": "display_data",
          "data": {
            "text/plain": [
              "'Size = 32'"
            ],
            "application/vnd.google.colaboratory.intrinsic+json": {
              "type": "string"
            }
          },
          "metadata": {}
        },
        {
          "output_type": "stream",
          "name": "stdout",
          "text": [
            "------------------------------------------------------\n"
          ]
        },
        {
          "output_type": "display_data",
          "data": {
            "text/plain": [
              "<IPython.core.display.Math object>"
            ],
            "text/latex": "$\\displaystyle {Generator \\ : \\ \\left( y z, \\  x\\right)}$"
          },
          "metadata": {}
        },
        {
          "output_type": "display_data",
          "data": {
            "text/plain": [
              "'Size = 32'"
            ],
            "application/vnd.google.colaboratory.intrinsic+json": {
              "type": "string"
            }
          },
          "metadata": {}
        },
        {
          "output_type": "stream",
          "name": "stdout",
          "text": [
            "------------------------------------------------------\n"
          ]
        },
        {
          "output_type": "display_data",
          "data": {
            "text/plain": [
              "<IPython.core.display.Math object>"
            ],
            "text/latex": "$\\displaystyle {Generator \\ : \\ \\left( y z, \\  x + z\\right)}$"
          },
          "metadata": {}
        },
        {
          "output_type": "display_data",
          "data": {
            "text/plain": [
              "'Size = 32'"
            ],
            "application/vnd.google.colaboratory.intrinsic+json": {
              "type": "string"
            }
          },
          "metadata": {}
        },
        {
          "output_type": "stream",
          "name": "stdout",
          "text": [
            "------------------------------------------------------\n"
          ]
        },
        {
          "output_type": "display_data",
          "data": {
            "text/plain": [
              "<IPython.core.display.Math object>"
            ],
            "text/latex": "$\\displaystyle {Generator \\ : \\ \\left( y z, \\  x + y\\right)}$"
          },
          "metadata": {}
        },
        {
          "output_type": "display_data",
          "data": {
            "text/plain": [
              "'Size = 32'"
            ],
            "application/vnd.google.colaboratory.intrinsic+json": {
              "type": "string"
            }
          },
          "metadata": {}
        },
        {
          "output_type": "stream",
          "name": "stdout",
          "text": [
            "------------------------------------------------------\n"
          ]
        },
        {
          "output_type": "display_data",
          "data": {
            "text/plain": [
              "<IPython.core.display.Math object>"
            ],
            "text/latex": "$\\displaystyle {Generator \\ : \\ \\left( y z, \\  x + y + z\\right)}$"
          },
          "metadata": {}
        },
        {
          "output_type": "display_data",
          "data": {
            "text/plain": [
              "'Size = 32'"
            ],
            "application/vnd.google.colaboratory.intrinsic+json": {
              "type": "string"
            }
          },
          "metadata": {}
        },
        {
          "output_type": "stream",
          "name": "stdout",
          "text": [
            "------------------------------------------------------\n"
          ]
        },
        {
          "output_type": "display_data",
          "data": {
            "text/plain": [
              "<IPython.core.display.Math object>"
            ],
            "text/latex": "$\\displaystyle {Generator \\ : \\ \\left( y z, \\  x z\\right)}$"
          },
          "metadata": {}
        },
        {
          "output_type": "display_data",
          "data": {
            "text/plain": [
              "'Size = 8'"
            ],
            "application/vnd.google.colaboratory.intrinsic+json": {
              "type": "string"
            }
          },
          "metadata": {}
        },
        {
          "output_type": "stream",
          "name": "stdout",
          "text": [
            "------------------------------------------------------\n"
          ]
        },
        {
          "output_type": "display_data",
          "data": {
            "text/plain": [
              "<IPython.core.display.Math object>"
            ],
            "text/latex": "$\\displaystyle {Generator \\ : \\ \\left( y z, \\  x y\\right)}$"
          },
          "metadata": {}
        },
        {
          "output_type": "display_data",
          "data": {
            "text/plain": [
              "'Size = 8'"
            ],
            "application/vnd.google.colaboratory.intrinsic+json": {
              "type": "string"
            }
          },
          "metadata": {}
        },
        {
          "output_type": "stream",
          "name": "stdout",
          "text": [
            "------------------------------------------------------\n"
          ]
        },
        {
          "output_type": "display_data",
          "data": {
            "text/plain": [
              "<IPython.core.display.Math object>"
            ],
            "text/latex": "$\\displaystyle {Generator \\ : \\ \\left( y z, \\  x y + x z\\right)}$"
          },
          "metadata": {}
        },
        {
          "output_type": "display_data",
          "data": {
            "text/plain": [
              "'Size = 8'"
            ],
            "application/vnd.google.colaboratory.intrinsic+json": {
              "type": "string"
            }
          },
          "metadata": {}
        },
        {
          "output_type": "stream",
          "name": "stdout",
          "text": [
            "------------------------------------------------------\n"
          ]
        },
        {
          "output_type": "display_data",
          "data": {
            "text/plain": [
              "<IPython.core.display.Math object>"
            ],
            "text/latex": "$\\displaystyle {Generator \\ : \\ \\left( x z, \\  x y\\right)}$"
          },
          "metadata": {}
        },
        {
          "output_type": "display_data",
          "data": {
            "text/plain": [
              "'Size = 8'"
            ],
            "application/vnd.google.colaboratory.intrinsic+json": {
              "type": "string"
            }
          },
          "metadata": {}
        },
        {
          "output_type": "stream",
          "name": "stdout",
          "text": [
            "------------------------------------------------------\n"
          ]
        },
        {
          "output_type": "display_data",
          "data": {
            "text/plain": [
              "<IPython.core.display.Math object>"
            ],
            "text/latex": "$\\displaystyle {Generator \\ : \\ \\left( x z, \\  x y + y z\\right)}$"
          },
          "metadata": {}
        },
        {
          "output_type": "display_data",
          "data": {
            "text/plain": [
              "'Size = 8'"
            ],
            "application/vnd.google.colaboratory.intrinsic+json": {
              "type": "string"
            }
          },
          "metadata": {}
        },
        {
          "output_type": "stream",
          "name": "stdout",
          "text": [
            "------------------------------------------------------\n"
          ]
        },
        {
          "output_type": "display_data",
          "data": {
            "text/plain": [
              "<IPython.core.display.Math object>"
            ],
            "text/latex": "$\\displaystyle {Generator \\ : \\ \\left( x z + y z, \\  x y\\right)}$"
          },
          "metadata": {}
        },
        {
          "output_type": "display_data",
          "data": {
            "text/plain": [
              "'Size = 8'"
            ],
            "application/vnd.google.colaboratory.intrinsic+json": {
              "type": "string"
            }
          },
          "metadata": {}
        },
        {
          "output_type": "stream",
          "name": "stdout",
          "text": [
            "------------------------------------------------------\n"
          ]
        },
        {
          "output_type": "display_data",
          "data": {
            "text/plain": [
              "<IPython.core.display.Math object>"
            ],
            "text/latex": "$\\displaystyle {Generator \\ : \\ \\left( x z + y z, \\  x y + y z\\right)}$"
          },
          "metadata": {}
        },
        {
          "output_type": "display_data",
          "data": {
            "text/plain": [
              "'Size = 8'"
            ],
            "application/vnd.google.colaboratory.intrinsic+json": {
              "type": "string"
            }
          },
          "metadata": {}
        },
        {
          "output_type": "stream",
          "name": "stdout",
          "text": [
            "------------------------------------------------------\n",
            "\n"
          ]
        },
        {
          "output_type": "display_data",
          "data": {
            "text/plain": [
              "<IPython.core.display.Math object>"
            ],
            "text/latex": "$\\displaystyle No. \\ \\ of \\ \\ Doubly \\ \\ Generated \\ \\ Ideals \\ : 21$"
          },
          "metadata": {}
        }
      ]
    },
    {
      "cell_type": "code",
      "source": [
        "# @title $All \\ \\ Ideals$\n",
        "\n",
        "# Initialize the All_ideals dictionary with the ideal generated by all non-units\n",
        "All_ideals[tuple(X)] = set(non_units)\n",
        "\n",
        "# Determine the length of ideals to be excluded based on the total number of non-units\n",
        "if(N % 2 == 0):\n",
        "    len_idl = N // 2\n",
        "else:\n",
        "    i = int(np.ceil(N / 2))  # Compute ceiling of N/2\n",
        "    while(N % i != 0):  # Find the largest divisor of N\n",
        "        i = i - 1\n",
        "    len_idl = i\n",
        "\n",
        "stop = 0  # Initialize stop flag\n",
        "while(stop == 0):  # Loop until no more k+1 generated ideals are found\n",
        "    k_idl_gens = []  # List to store generators of k-generated ideals\n",
        "    for key0 in k_gen_ideals.keys():\n",
        "        k_idl_gens.append(key0)\n",
        "\n",
        "    # Remove k-generated ideals whose cardinality is equal to |m|/2\n",
        "    for key in k_gen_ideals.keys():\n",
        "        if(len(k_gen_ideals[key]) >= len_idl):\n",
        "            k_idl_gens.remove(key)\n",
        "\n",
        "    kp1_gen_ideals = {}  # Dictionary to store ideals generated by k+1 generators\n",
        "    for key1 in k_idl_gens:\n",
        "        for key2 in pr_idl_gens:\n",
        "            if(key2 not in key1):\n",
        "                # Check if the union of key1 and key2 already exists in gen_max_idl\n",
        "                if(any((tup0) in (set(key1).union({key2})) for tup0 in gen_max_idl)):\n",
        "                    break\n",
        "                else:\n",
        "                    temp_ideal = set()  # Temporary set to store the new ideal generated\n",
        "                    for elt1 in k_gen_ideals[key1]:\n",
        "                        for elt2 in Pr_ideals[key2]:\n",
        "                            h0 = sp.expand(sum([elt1, elt2]))  # Expand the sum of ideals\n",
        "\n",
        "                            # Reduce the expanded ideal\n",
        "                            if(h0 in red_elts.keys()):\n",
        "                                h = red_elts[h0]\n",
        "                            else:\n",
        "                                h = sp.reduced(h0, G, var, domain=ring, order=choose_order)[1]\n",
        "                                if(h == 0):\n",
        "                                    red_elts[h0] = h\n",
        "                                else:\n",
        "                                    h = modulo_n(d0, h)\n",
        "                                    red_elts[h0] = h\n",
        "\n",
        "                            temp_ideal.add(h)  # Add the reduced ideal to the temporary set\n",
        "\n",
        "                    # Check if the new ideal is already in All_ideals\n",
        "                    check = 1\n",
        "                    for ideal0 in All_ideals.values():\n",
        "                        if(temp_ideal == ideal0):\n",
        "                            check = 0\n",
        "                            break\n",
        "\n",
        "                    # If the ideal is new, add it to the dictionaries\n",
        "                    if(check == 0):\n",
        "                        pass\n",
        "                    else:\n",
        "                        gens = tuple(set(key1).union({key2}))\n",
        "                        k_gen_ideals[gens] = temp_ideal\n",
        "                        All_ideals[gens] = temp_ideal\n",
        "                        kp1_gen_ideals[gens] = temp_ideal\n",
        "\n",
        "    # Stop the loop if no new k+1 generated ideals are found\n",
        "    if(len(kp1_gen_ideals.keys()) == 0):\n",
        "        stop = 1\n",
        "    else:\n",
        "        k_gen_ideals = {}\n",
        "        for key3 in kp1_gen_ideals.keys():\n",
        "            k_gen_ideals[key3] = kp1_gen_ideals[key3]\n",
        "\n",
        "# Display all ideals grouped by the number of generators\n",
        "for i in range(1, len(idl_gens)):\n",
        "    display(Math(r'No. \\ \\ of \\ \\ Generators = ' + sp.latex(i)))\n",
        "    for key in All_ideals.keys():\n",
        "        try:\n",
        "            if(len(key) == i):  # Check if the number of generators matches\n",
        "                display(Math(r'{Generator \\ : \\ ' + sp.latex(key) + r'}'))\n",
        "                display(r'Size = ' + sp.latex(len(All_ideals[key])))  # Display the size of the ideal\n",
        "                print()\n",
        "        except:\n",
        "            pass\n"
      ],
      "metadata": {
        "colab": {
          "base_uri": "https://localhost:8080/",
          "height": 3030
        },
        "cellView": "form",
        "id": "4aBvBgRBcWQp",
        "outputId": "0bfee474-066b-40da-a850-d24399b70545"
      },
      "execution_count": 14,
      "outputs": [
        {
          "output_type": "display_data",
          "data": {
            "text/plain": [
              "<IPython.core.display.Math object>"
            ],
            "text/latex": "$\\displaystyle No. \\ \\ of \\ \\ Generators = 1$"
          },
          "metadata": {}
        },
        {
          "output_type": "display_data",
          "data": {
            "text/plain": [
              "<IPython.core.display.Math object>"
            ],
            "text/latex": "$\\displaystyle {Generator \\ : \\ \\left( z,\\right)}$"
          },
          "metadata": {}
        },
        {
          "output_type": "display_data",
          "data": {
            "text/plain": [
              "'Size = 16'"
            ],
            "application/vnd.google.colaboratory.intrinsic+json": {
              "type": "string"
            }
          },
          "metadata": {}
        },
        {
          "output_type": "stream",
          "name": "stdout",
          "text": [
            "\n"
          ]
        },
        {
          "output_type": "display_data",
          "data": {
            "text/plain": [
              "<IPython.core.display.Math object>"
            ],
            "text/latex": "$\\displaystyle {Generator \\ : \\ \\left( y,\\right)}$"
          },
          "metadata": {}
        },
        {
          "output_type": "display_data",
          "data": {
            "text/plain": [
              "'Size = 16'"
            ],
            "application/vnd.google.colaboratory.intrinsic+json": {
              "type": "string"
            }
          },
          "metadata": {}
        },
        {
          "output_type": "stream",
          "name": "stdout",
          "text": [
            "\n"
          ]
        },
        {
          "output_type": "display_data",
          "data": {
            "text/plain": [
              "<IPython.core.display.Math object>"
            ],
            "text/latex": "$\\displaystyle {Generator \\ : \\ \\left( y + z,\\right)}$"
          },
          "metadata": {}
        },
        {
          "output_type": "display_data",
          "data": {
            "text/plain": [
              "'Size = 16'"
            ],
            "application/vnd.google.colaboratory.intrinsic+json": {
              "type": "string"
            }
          },
          "metadata": {}
        },
        {
          "output_type": "stream",
          "name": "stdout",
          "text": [
            "\n"
          ]
        },
        {
          "output_type": "display_data",
          "data": {
            "text/plain": [
              "<IPython.core.display.Math object>"
            ],
            "text/latex": "$\\displaystyle {Generator \\ : \\ \\left( y z,\\right)}$"
          },
          "metadata": {}
        },
        {
          "output_type": "display_data",
          "data": {
            "text/plain": [
              "'Size = 4'"
            ],
            "application/vnd.google.colaboratory.intrinsic+json": {
              "type": "string"
            }
          },
          "metadata": {}
        },
        {
          "output_type": "stream",
          "name": "stdout",
          "text": [
            "\n"
          ]
        },
        {
          "output_type": "display_data",
          "data": {
            "text/plain": [
              "<IPython.core.display.Math object>"
            ],
            "text/latex": "$\\displaystyle {Generator \\ : \\ \\left( x,\\right)}$"
          },
          "metadata": {}
        },
        {
          "output_type": "display_data",
          "data": {
            "text/plain": [
              "'Size = 16'"
            ],
            "application/vnd.google.colaboratory.intrinsic+json": {
              "type": "string"
            }
          },
          "metadata": {}
        },
        {
          "output_type": "stream",
          "name": "stdout",
          "text": [
            "\n"
          ]
        },
        {
          "output_type": "display_data",
          "data": {
            "text/plain": [
              "<IPython.core.display.Math object>"
            ],
            "text/latex": "$\\displaystyle {Generator \\ : \\ \\left( x + z,\\right)}$"
          },
          "metadata": {}
        },
        {
          "output_type": "display_data",
          "data": {
            "text/plain": [
              "'Size = 16'"
            ],
            "application/vnd.google.colaboratory.intrinsic+json": {
              "type": "string"
            }
          },
          "metadata": {}
        },
        {
          "output_type": "stream",
          "name": "stdout",
          "text": [
            "\n"
          ]
        },
        {
          "output_type": "display_data",
          "data": {
            "text/plain": [
              "<IPython.core.display.Math object>"
            ],
            "text/latex": "$\\displaystyle {Generator \\ : \\ \\left( x + y,\\right)}$"
          },
          "metadata": {}
        },
        {
          "output_type": "display_data",
          "data": {
            "text/plain": [
              "'Size = 16'"
            ],
            "application/vnd.google.colaboratory.intrinsic+json": {
              "type": "string"
            }
          },
          "metadata": {}
        },
        {
          "output_type": "stream",
          "name": "stdout",
          "text": [
            "\n"
          ]
        },
        {
          "output_type": "display_data",
          "data": {
            "text/plain": [
              "<IPython.core.display.Math object>"
            ],
            "text/latex": "$\\displaystyle {Generator \\ : \\ \\left( x + y + z,\\right)}$"
          },
          "metadata": {}
        },
        {
          "output_type": "display_data",
          "data": {
            "text/plain": [
              "'Size = 16'"
            ],
            "application/vnd.google.colaboratory.intrinsic+json": {
              "type": "string"
            }
          },
          "metadata": {}
        },
        {
          "output_type": "stream",
          "name": "stdout",
          "text": [
            "\n"
          ]
        },
        {
          "output_type": "display_data",
          "data": {
            "text/plain": [
              "<IPython.core.display.Math object>"
            ],
            "text/latex": "$\\displaystyle {Generator \\ : \\ \\left( x + y z,\\right)}$"
          },
          "metadata": {}
        },
        {
          "output_type": "display_data",
          "data": {
            "text/plain": [
              "'Size = 16'"
            ],
            "application/vnd.google.colaboratory.intrinsic+json": {
              "type": "string"
            }
          },
          "metadata": {}
        },
        {
          "output_type": "stream",
          "name": "stdout",
          "text": [
            "\n"
          ]
        },
        {
          "output_type": "display_data",
          "data": {
            "text/plain": [
              "<IPython.core.display.Math object>"
            ],
            "text/latex": "$\\displaystyle {Generator \\ : \\ \\left( x + y z + z,\\right)}$"
          },
          "metadata": {}
        },
        {
          "output_type": "display_data",
          "data": {
            "text/plain": [
              "'Size = 16'"
            ],
            "application/vnd.google.colaboratory.intrinsic+json": {
              "type": "string"
            }
          },
          "metadata": {}
        },
        {
          "output_type": "stream",
          "name": "stdout",
          "text": [
            "\n"
          ]
        },
        {
          "output_type": "display_data",
          "data": {
            "text/plain": [
              "<IPython.core.display.Math object>"
            ],
            "text/latex": "$\\displaystyle {Generator \\ : \\ \\left( x + y z + y,\\right)}$"
          },
          "metadata": {}
        },
        {
          "output_type": "display_data",
          "data": {
            "text/plain": [
              "'Size = 16'"
            ],
            "application/vnd.google.colaboratory.intrinsic+json": {
              "type": "string"
            }
          },
          "metadata": {}
        },
        {
          "output_type": "stream",
          "name": "stdout",
          "text": [
            "\n"
          ]
        },
        {
          "output_type": "display_data",
          "data": {
            "text/plain": [
              "<IPython.core.display.Math object>"
            ],
            "text/latex": "$\\displaystyle {Generator \\ : \\ \\left( x + y z + y + z,\\right)}$"
          },
          "metadata": {}
        },
        {
          "output_type": "display_data",
          "data": {
            "text/plain": [
              "'Size = 16'"
            ],
            "application/vnd.google.colaboratory.intrinsic+json": {
              "type": "string"
            }
          },
          "metadata": {}
        },
        {
          "output_type": "stream",
          "name": "stdout",
          "text": [
            "\n"
          ]
        },
        {
          "output_type": "display_data",
          "data": {
            "text/plain": [
              "<IPython.core.display.Math object>"
            ],
            "text/latex": "$\\displaystyle {Generator \\ : \\ \\left( x z,\\right)}$"
          },
          "metadata": {}
        },
        {
          "output_type": "display_data",
          "data": {
            "text/plain": [
              "'Size = 4'"
            ],
            "application/vnd.google.colaboratory.intrinsic+json": {
              "type": "string"
            }
          },
          "metadata": {}
        },
        {
          "output_type": "stream",
          "name": "stdout",
          "text": [
            "\n"
          ]
        },
        {
          "output_type": "display_data",
          "data": {
            "text/plain": [
              "<IPython.core.display.Math object>"
            ],
            "text/latex": "$\\displaystyle {Generator \\ : \\ \\left( x z + y,\\right)}$"
          },
          "metadata": {}
        },
        {
          "output_type": "display_data",
          "data": {
            "text/plain": [
              "'Size = 16'"
            ],
            "application/vnd.google.colaboratory.intrinsic+json": {
              "type": "string"
            }
          },
          "metadata": {}
        },
        {
          "output_type": "stream",
          "name": "stdout",
          "text": [
            "\n"
          ]
        },
        {
          "output_type": "display_data",
          "data": {
            "text/plain": [
              "<IPython.core.display.Math object>"
            ],
            "text/latex": "$\\displaystyle {Generator \\ : \\ \\left( x z + y + z,\\right)}$"
          },
          "metadata": {}
        },
        {
          "output_type": "display_data",
          "data": {
            "text/plain": [
              "'Size = 16'"
            ],
            "application/vnd.google.colaboratory.intrinsic+json": {
              "type": "string"
            }
          },
          "metadata": {}
        },
        {
          "output_type": "stream",
          "name": "stdout",
          "text": [
            "\n"
          ]
        },
        {
          "output_type": "display_data",
          "data": {
            "text/plain": [
              "<IPython.core.display.Math object>"
            ],
            "text/latex": "$\\displaystyle {Generator \\ : \\ \\left( x z + y z,\\right)}$"
          },
          "metadata": {}
        },
        {
          "output_type": "display_data",
          "data": {
            "text/plain": [
              "'Size = 4'"
            ],
            "application/vnd.google.colaboratory.intrinsic+json": {
              "type": "string"
            }
          },
          "metadata": {}
        },
        {
          "output_type": "stream",
          "name": "stdout",
          "text": [
            "\n"
          ]
        },
        {
          "output_type": "display_data",
          "data": {
            "text/plain": [
              "<IPython.core.display.Math object>"
            ],
            "text/latex": "$\\displaystyle {Generator \\ : \\ \\left( x y,\\right)}$"
          },
          "metadata": {}
        },
        {
          "output_type": "display_data",
          "data": {
            "text/plain": [
              "'Size = 4'"
            ],
            "application/vnd.google.colaboratory.intrinsic+json": {
              "type": "string"
            }
          },
          "metadata": {}
        },
        {
          "output_type": "stream",
          "name": "stdout",
          "text": [
            "\n"
          ]
        },
        {
          "output_type": "display_data",
          "data": {
            "text/plain": [
              "<IPython.core.display.Math object>"
            ],
            "text/latex": "$\\displaystyle {Generator \\ : \\ \\left( x y + z,\\right)}$"
          },
          "metadata": {}
        },
        {
          "output_type": "display_data",
          "data": {
            "text/plain": [
              "'Size = 16'"
            ],
            "application/vnd.google.colaboratory.intrinsic+json": {
              "type": "string"
            }
          },
          "metadata": {}
        },
        {
          "output_type": "stream",
          "name": "stdout",
          "text": [
            "\n"
          ]
        },
        {
          "output_type": "display_data",
          "data": {
            "text/plain": [
              "<IPython.core.display.Math object>"
            ],
            "text/latex": "$\\displaystyle {Generator \\ : \\ \\left( x y + y z,\\right)}$"
          },
          "metadata": {}
        },
        {
          "output_type": "display_data",
          "data": {
            "text/plain": [
              "'Size = 4'"
            ],
            "application/vnd.google.colaboratory.intrinsic+json": {
              "type": "string"
            }
          },
          "metadata": {}
        },
        {
          "output_type": "stream",
          "name": "stdout",
          "text": [
            "\n"
          ]
        },
        {
          "output_type": "display_data",
          "data": {
            "text/plain": [
              "<IPython.core.display.Math object>"
            ],
            "text/latex": "$\\displaystyle {Generator \\ : \\ \\left( x y + x z,\\right)}$"
          },
          "metadata": {}
        },
        {
          "output_type": "display_data",
          "data": {
            "text/plain": [
              "'Size = 4'"
            ],
            "application/vnd.google.colaboratory.intrinsic+json": {
              "type": "string"
            }
          },
          "metadata": {}
        },
        {
          "output_type": "stream",
          "name": "stdout",
          "text": [
            "\n"
          ]
        },
        {
          "output_type": "display_data",
          "data": {
            "text/plain": [
              "<IPython.core.display.Math object>"
            ],
            "text/latex": "$\\displaystyle {Generator \\ : \\ \\left( x y + x z + y z,\\right)}$"
          },
          "metadata": {}
        },
        {
          "output_type": "display_data",
          "data": {
            "text/plain": [
              "'Size = 4'"
            ],
            "application/vnd.google.colaboratory.intrinsic+json": {
              "type": "string"
            }
          },
          "metadata": {}
        },
        {
          "output_type": "stream",
          "name": "stdout",
          "text": [
            "\n"
          ]
        },
        {
          "output_type": "display_data",
          "data": {
            "text/plain": [
              "<IPython.core.display.Math object>"
            ],
            "text/latex": "$\\displaystyle {Generator \\ : \\ \\left( x y z,\\right)}$"
          },
          "metadata": {}
        },
        {
          "output_type": "display_data",
          "data": {
            "text/plain": [
              "'Size = 2'"
            ],
            "application/vnd.google.colaboratory.intrinsic+json": {
              "type": "string"
            }
          },
          "metadata": {}
        },
        {
          "output_type": "stream",
          "name": "stdout",
          "text": [
            "\n"
          ]
        },
        {
          "output_type": "display_data",
          "data": {
            "text/plain": [
              "<IPython.core.display.Math object>"
            ],
            "text/latex": "$\\displaystyle No. \\ \\ of \\ \\ Generators = 2$"
          },
          "metadata": {}
        },
        {
          "output_type": "display_data",
          "data": {
            "text/plain": [
              "<IPython.core.display.Math object>"
            ],
            "text/latex": "$\\displaystyle {Generator \\ : \\ \\left( z, \\  y\\right)}$"
          },
          "metadata": {}
        },
        {
          "output_type": "display_data",
          "data": {
            "text/plain": [
              "'Size = 64'"
            ],
            "application/vnd.google.colaboratory.intrinsic+json": {
              "type": "string"
            }
          },
          "metadata": {}
        },
        {
          "output_type": "stream",
          "name": "stdout",
          "text": [
            "\n"
          ]
        },
        {
          "output_type": "display_data",
          "data": {
            "text/plain": [
              "<IPython.core.display.Math object>"
            ],
            "text/latex": "$\\displaystyle {Generator \\ : \\ \\left( z, \\  x\\right)}$"
          },
          "metadata": {}
        },
        {
          "output_type": "display_data",
          "data": {
            "text/plain": [
              "'Size = 64'"
            ],
            "application/vnd.google.colaboratory.intrinsic+json": {
              "type": "string"
            }
          },
          "metadata": {}
        },
        {
          "output_type": "stream",
          "name": "stdout",
          "text": [
            "\n"
          ]
        },
        {
          "output_type": "display_data",
          "data": {
            "text/plain": [
              "<IPython.core.display.Math object>"
            ],
            "text/latex": "$\\displaystyle {Generator \\ : \\ \\left( z, \\  x + y\\right)}$"
          },
          "metadata": {}
        },
        {
          "output_type": "display_data",
          "data": {
            "text/plain": [
              "'Size = 64'"
            ],
            "application/vnd.google.colaboratory.intrinsic+json": {
              "type": "string"
            }
          },
          "metadata": {}
        },
        {
          "output_type": "stream",
          "name": "stdout",
          "text": [
            "\n"
          ]
        },
        {
          "output_type": "display_data",
          "data": {
            "text/plain": [
              "<IPython.core.display.Math object>"
            ],
            "text/latex": "$\\displaystyle {Generator \\ : \\ \\left( z, \\  x y\\right)}$"
          },
          "metadata": {}
        },
        {
          "output_type": "display_data",
          "data": {
            "text/plain": [
              "'Size = 32'"
            ],
            "application/vnd.google.colaboratory.intrinsic+json": {
              "type": "string"
            }
          },
          "metadata": {}
        },
        {
          "output_type": "stream",
          "name": "stdout",
          "text": [
            "\n"
          ]
        },
        {
          "output_type": "display_data",
          "data": {
            "text/plain": [
              "<IPython.core.display.Math object>"
            ],
            "text/latex": "$\\displaystyle {Generator \\ : \\ \\left( y, \\  x\\right)}$"
          },
          "metadata": {}
        },
        {
          "output_type": "display_data",
          "data": {
            "text/plain": [
              "'Size = 64'"
            ],
            "application/vnd.google.colaboratory.intrinsic+json": {
              "type": "string"
            }
          },
          "metadata": {}
        },
        {
          "output_type": "stream",
          "name": "stdout",
          "text": [
            "\n"
          ]
        },
        {
          "output_type": "display_data",
          "data": {
            "text/plain": [
              "<IPython.core.display.Math object>"
            ],
            "text/latex": "$\\displaystyle {Generator \\ : \\ \\left( y, \\  x + z\\right)}$"
          },
          "metadata": {}
        },
        {
          "output_type": "display_data",
          "data": {
            "text/plain": [
              "'Size = 64'"
            ],
            "application/vnd.google.colaboratory.intrinsic+json": {
              "type": "string"
            }
          },
          "metadata": {}
        },
        {
          "output_type": "stream",
          "name": "stdout",
          "text": [
            "\n"
          ]
        },
        {
          "output_type": "display_data",
          "data": {
            "text/plain": [
              "<IPython.core.display.Math object>"
            ],
            "text/latex": "$\\displaystyle {Generator \\ : \\ \\left( y, \\  x z\\right)}$"
          },
          "metadata": {}
        },
        {
          "output_type": "display_data",
          "data": {
            "text/plain": [
              "'Size = 32'"
            ],
            "application/vnd.google.colaboratory.intrinsic+json": {
              "type": "string"
            }
          },
          "metadata": {}
        },
        {
          "output_type": "stream",
          "name": "stdout",
          "text": [
            "\n"
          ]
        },
        {
          "output_type": "display_data",
          "data": {
            "text/plain": [
              "<IPython.core.display.Math object>"
            ],
            "text/latex": "$\\displaystyle {Generator \\ : \\ \\left( y + z, \\  x\\right)}$"
          },
          "metadata": {}
        },
        {
          "output_type": "display_data",
          "data": {
            "text/plain": [
              "'Size = 64'"
            ],
            "application/vnd.google.colaboratory.intrinsic+json": {
              "type": "string"
            }
          },
          "metadata": {}
        },
        {
          "output_type": "stream",
          "name": "stdout",
          "text": [
            "\n"
          ]
        },
        {
          "output_type": "display_data",
          "data": {
            "text/plain": [
              "<IPython.core.display.Math object>"
            ],
            "text/latex": "$\\displaystyle {Generator \\ : \\ \\left( y + z, \\  x + z\\right)}$"
          },
          "metadata": {}
        },
        {
          "output_type": "display_data",
          "data": {
            "text/plain": [
              "'Size = 64'"
            ],
            "application/vnd.google.colaboratory.intrinsic+json": {
              "type": "string"
            }
          },
          "metadata": {}
        },
        {
          "output_type": "stream",
          "name": "stdout",
          "text": [
            "\n"
          ]
        },
        {
          "output_type": "display_data",
          "data": {
            "text/plain": [
              "<IPython.core.display.Math object>"
            ],
            "text/latex": "$\\displaystyle {Generator \\ : \\ \\left( y + z, \\  x z\\right)}$"
          },
          "metadata": {}
        },
        {
          "output_type": "display_data",
          "data": {
            "text/plain": [
              "'Size = 32'"
            ],
            "application/vnd.google.colaboratory.intrinsic+json": {
              "type": "string"
            }
          },
          "metadata": {}
        },
        {
          "output_type": "stream",
          "name": "stdout",
          "text": [
            "\n"
          ]
        },
        {
          "output_type": "display_data",
          "data": {
            "text/plain": [
              "<IPython.core.display.Math object>"
            ],
            "text/latex": "$\\displaystyle {Generator \\ : \\ \\left( y z, \\  x\\right)}$"
          },
          "metadata": {}
        },
        {
          "output_type": "display_data",
          "data": {
            "text/plain": [
              "'Size = 32'"
            ],
            "application/vnd.google.colaboratory.intrinsic+json": {
              "type": "string"
            }
          },
          "metadata": {}
        },
        {
          "output_type": "stream",
          "name": "stdout",
          "text": [
            "\n"
          ]
        },
        {
          "output_type": "display_data",
          "data": {
            "text/plain": [
              "<IPython.core.display.Math object>"
            ],
            "text/latex": "$\\displaystyle {Generator \\ : \\ \\left( y z, \\  x + z\\right)}$"
          },
          "metadata": {}
        },
        {
          "output_type": "display_data",
          "data": {
            "text/plain": [
              "'Size = 32'"
            ],
            "application/vnd.google.colaboratory.intrinsic+json": {
              "type": "string"
            }
          },
          "metadata": {}
        },
        {
          "output_type": "stream",
          "name": "stdout",
          "text": [
            "\n"
          ]
        },
        {
          "output_type": "display_data",
          "data": {
            "text/plain": [
              "<IPython.core.display.Math object>"
            ],
            "text/latex": "$\\displaystyle {Generator \\ : \\ \\left( y z, \\  x + y\\right)}$"
          },
          "metadata": {}
        },
        {
          "output_type": "display_data",
          "data": {
            "text/plain": [
              "'Size = 32'"
            ],
            "application/vnd.google.colaboratory.intrinsic+json": {
              "type": "string"
            }
          },
          "metadata": {}
        },
        {
          "output_type": "stream",
          "name": "stdout",
          "text": [
            "\n"
          ]
        },
        {
          "output_type": "display_data",
          "data": {
            "text/plain": [
              "<IPython.core.display.Math object>"
            ],
            "text/latex": "$\\displaystyle {Generator \\ : \\ \\left( y z, \\  x + y + z\\right)}$"
          },
          "metadata": {}
        },
        {
          "output_type": "display_data",
          "data": {
            "text/plain": [
              "'Size = 32'"
            ],
            "application/vnd.google.colaboratory.intrinsic+json": {
              "type": "string"
            }
          },
          "metadata": {}
        },
        {
          "output_type": "stream",
          "name": "stdout",
          "text": [
            "\n"
          ]
        },
        {
          "output_type": "display_data",
          "data": {
            "text/plain": [
              "<IPython.core.display.Math object>"
            ],
            "text/latex": "$\\displaystyle {Generator \\ : \\ \\left( y z, \\  x z\\right)}$"
          },
          "metadata": {}
        },
        {
          "output_type": "display_data",
          "data": {
            "text/plain": [
              "'Size = 8'"
            ],
            "application/vnd.google.colaboratory.intrinsic+json": {
              "type": "string"
            }
          },
          "metadata": {}
        },
        {
          "output_type": "stream",
          "name": "stdout",
          "text": [
            "\n"
          ]
        },
        {
          "output_type": "display_data",
          "data": {
            "text/plain": [
              "<IPython.core.display.Math object>"
            ],
            "text/latex": "$\\displaystyle {Generator \\ : \\ \\left( y z, \\  x y\\right)}$"
          },
          "metadata": {}
        },
        {
          "output_type": "display_data",
          "data": {
            "text/plain": [
              "'Size = 8'"
            ],
            "application/vnd.google.colaboratory.intrinsic+json": {
              "type": "string"
            }
          },
          "metadata": {}
        },
        {
          "output_type": "stream",
          "name": "stdout",
          "text": [
            "\n"
          ]
        },
        {
          "output_type": "display_data",
          "data": {
            "text/plain": [
              "<IPython.core.display.Math object>"
            ],
            "text/latex": "$\\displaystyle {Generator \\ : \\ \\left( y z, \\  x y + x z\\right)}$"
          },
          "metadata": {}
        },
        {
          "output_type": "display_data",
          "data": {
            "text/plain": [
              "'Size = 8'"
            ],
            "application/vnd.google.colaboratory.intrinsic+json": {
              "type": "string"
            }
          },
          "metadata": {}
        },
        {
          "output_type": "stream",
          "name": "stdout",
          "text": [
            "\n"
          ]
        },
        {
          "output_type": "display_data",
          "data": {
            "text/plain": [
              "<IPython.core.display.Math object>"
            ],
            "text/latex": "$\\displaystyle {Generator \\ : \\ \\left( x z, \\  x y\\right)}$"
          },
          "metadata": {}
        },
        {
          "output_type": "display_data",
          "data": {
            "text/plain": [
              "'Size = 8'"
            ],
            "application/vnd.google.colaboratory.intrinsic+json": {
              "type": "string"
            }
          },
          "metadata": {}
        },
        {
          "output_type": "stream",
          "name": "stdout",
          "text": [
            "\n"
          ]
        },
        {
          "output_type": "display_data",
          "data": {
            "text/plain": [
              "<IPython.core.display.Math object>"
            ],
            "text/latex": "$\\displaystyle {Generator \\ : \\ \\left( x z, \\  x y + y z\\right)}$"
          },
          "metadata": {}
        },
        {
          "output_type": "display_data",
          "data": {
            "text/plain": [
              "'Size = 8'"
            ],
            "application/vnd.google.colaboratory.intrinsic+json": {
              "type": "string"
            }
          },
          "metadata": {}
        },
        {
          "output_type": "stream",
          "name": "stdout",
          "text": [
            "\n"
          ]
        },
        {
          "output_type": "display_data",
          "data": {
            "text/plain": [
              "<IPython.core.display.Math object>"
            ],
            "text/latex": "$\\displaystyle {Generator \\ : \\ \\left( x z + y z, \\  x y\\right)}$"
          },
          "metadata": {}
        },
        {
          "output_type": "display_data",
          "data": {
            "text/plain": [
              "'Size = 8'"
            ],
            "application/vnd.google.colaboratory.intrinsic+json": {
              "type": "string"
            }
          },
          "metadata": {}
        },
        {
          "output_type": "stream",
          "name": "stdout",
          "text": [
            "\n"
          ]
        },
        {
          "output_type": "display_data",
          "data": {
            "text/plain": [
              "<IPython.core.display.Math object>"
            ],
            "text/latex": "$\\displaystyle {Generator \\ : \\ \\left( x z + y z, \\  x y + y z\\right)}$"
          },
          "metadata": {}
        },
        {
          "output_type": "display_data",
          "data": {
            "text/plain": [
              "'Size = 8'"
            ],
            "application/vnd.google.colaboratory.intrinsic+json": {
              "type": "string"
            }
          },
          "metadata": {}
        },
        {
          "output_type": "stream",
          "name": "stdout",
          "text": [
            "\n"
          ]
        },
        {
          "output_type": "display_data",
          "data": {
            "text/plain": [
              "<IPython.core.display.Math object>"
            ],
            "text/latex": "$\\displaystyle No. \\ \\ of \\ \\ Generators = 3$"
          },
          "metadata": {}
        },
        {
          "output_type": "display_data",
          "data": {
            "text/plain": [
              "<IPython.core.display.Math object>"
            ],
            "text/latex": "$\\displaystyle {Generator \\ : \\ \\left( x, \\  y, \\  z\\right)}$"
          },
          "metadata": {}
        },
        {
          "output_type": "display_data",
          "data": {
            "text/plain": [
              "'Size = 128'"
            ],
            "application/vnd.google.colaboratory.intrinsic+json": {
              "type": "string"
            }
          },
          "metadata": {}
        },
        {
          "output_type": "stream",
          "name": "stdout",
          "text": [
            "\n"
          ]
        },
        {
          "output_type": "display_data",
          "data": {
            "text/plain": [
              "<IPython.core.display.Math object>"
            ],
            "text/latex": "$\\displaystyle {Generator \\ : \\ \\left( x y, \\  x z, \\  y z\\right)}$"
          },
          "metadata": {}
        },
        {
          "output_type": "display_data",
          "data": {
            "text/plain": [
              "'Size = 16'"
            ],
            "application/vnd.google.colaboratory.intrinsic+json": {
              "type": "string"
            }
          },
          "metadata": {}
        },
        {
          "output_type": "stream",
          "name": "stdout",
          "text": [
            "\n"
          ]
        },
        {
          "output_type": "display_data",
          "data": {
            "text/plain": [
              "<IPython.core.display.Math object>"
            ],
            "text/latex": "$\\displaystyle No. \\ \\ of \\ \\ Generators = 4$"
          },
          "metadata": {}
        },
        {
          "output_type": "display_data",
          "data": {
            "text/plain": [
              "<IPython.core.display.Math object>"
            ],
            "text/latex": "$\\displaystyle No. \\ \\ of \\ \\ Generators = 5$"
          },
          "metadata": {}
        },
        {
          "output_type": "display_data",
          "data": {
            "text/plain": [
              "<IPython.core.display.Math object>"
            ],
            "text/latex": "$\\displaystyle No. \\ \\ of \\ \\ Generators = 6$"
          },
          "metadata": {}
        },
        {
          "output_type": "display_data",
          "data": {
            "text/plain": [
              "<IPython.core.display.Math object>"
            ],
            "text/latex": "$\\displaystyle No. \\ \\ of \\ \\ Generators = 7$"
          },
          "metadata": {}
        },
        {
          "output_type": "display_data",
          "data": {
            "text/plain": [
              "<IPython.core.display.Math object>"
            ],
            "text/latex": "$\\displaystyle No. \\ \\ of \\ \\ Generators = 8$"
          },
          "metadata": {}
        },
        {
          "output_type": "display_data",
          "data": {
            "text/plain": [
              "<IPython.core.display.Math object>"
            ],
            "text/latex": "$\\displaystyle No. \\ \\ of \\ \\ Generators = 9$"
          },
          "metadata": {}
        },
        {
          "output_type": "display_data",
          "data": {
            "text/plain": [
              "<IPython.core.display.Math object>"
            ],
            "text/latex": "$\\displaystyle No. \\ \\ of \\ \\ Generators = 10$"
          },
          "metadata": {}
        },
        {
          "output_type": "display_data",
          "data": {
            "text/plain": [
              "<IPython.core.display.Math object>"
            ],
            "text/latex": "$\\displaystyle No. \\ \\ of \\ \\ Generators = 11$"
          },
          "metadata": {}
        },
        {
          "output_type": "display_data",
          "data": {
            "text/plain": [
              "<IPython.core.display.Math object>"
            ],
            "text/latex": "$\\displaystyle No. \\ \\ of \\ \\ Generators = 12$"
          },
          "metadata": {}
        },
        {
          "output_type": "display_data",
          "data": {
            "text/plain": [
              "<IPython.core.display.Math object>"
            ],
            "text/latex": "$\\displaystyle No. \\ \\ of \\ \\ Generators = 13$"
          },
          "metadata": {}
        },
        {
          "output_type": "display_data",
          "data": {
            "text/plain": [
              "<IPython.core.display.Math object>"
            ],
            "text/latex": "$\\displaystyle No. \\ \\ of \\ \\ Generators = 14$"
          },
          "metadata": {}
        },
        {
          "output_type": "display_data",
          "data": {
            "text/plain": [
              "<IPython.core.display.Math object>"
            ],
            "text/latex": "$\\displaystyle No. \\ \\ of \\ \\ Generators = 15$"
          },
          "metadata": {}
        },
        {
          "output_type": "display_data",
          "data": {
            "text/plain": [
              "<IPython.core.display.Math object>"
            ],
            "text/latex": "$\\displaystyle No. \\ \\ of \\ \\ Generators = 16$"
          },
          "metadata": {}
        },
        {
          "output_type": "display_data",
          "data": {
            "text/plain": [
              "<IPython.core.display.Math object>"
            ],
            "text/latex": "$\\displaystyle No. \\ \\ of \\ \\ Generators = 17$"
          },
          "metadata": {}
        },
        {
          "output_type": "display_data",
          "data": {
            "text/plain": [
              "<IPython.core.display.Math object>"
            ],
            "text/latex": "$\\displaystyle No. \\ \\ of \\ \\ Generators = 18$"
          },
          "metadata": {}
        },
        {
          "output_type": "display_data",
          "data": {
            "text/plain": [
              "<IPython.core.display.Math object>"
            ],
            "text/latex": "$\\displaystyle No. \\ \\ of \\ \\ Generators = 19$"
          },
          "metadata": {}
        },
        {
          "output_type": "display_data",
          "data": {
            "text/plain": [
              "<IPython.core.display.Math object>"
            ],
            "text/latex": "$\\displaystyle No. \\ \\ of \\ \\ Generators = 20$"
          },
          "metadata": {}
        },
        {
          "output_type": "display_data",
          "data": {
            "text/plain": [
              "<IPython.core.display.Math object>"
            ],
            "text/latex": "$\\displaystyle No. \\ \\ of \\ \\ Generators = 21$"
          },
          "metadata": {}
        }
      ]
    },
    {
      "cell_type": "markdown",
      "source": [
        "##$Check \\ \\ Ideals$"
      ],
      "metadata": {
        "id": "DaEdfXvAcv5C"
      }
    },
    {
      "cell_type": "code",
      "source": [
        "# @title $Check \\ \\ if \\ \\ a,b \\in I \\implies a-b \\in I$\n",
        "display(Math(r'Checked \\ \\ for'))\n",
        "count = 1  # Initialize counter for displaying ideal numbers\n",
        "for key in All_ideals:\n",
        "    print('Ideal no:', count, sep='', end=' , ')  # Display the current ideal number\n",
        "    if(count % 10 == 0):  # Print a new line every 10 ideals for readability\n",
        "        print()\n",
        "\n",
        "    Ideal = All_ideals[key]  # Retrieve the current ideal\n",
        "    for elt1 in Ideal:  # Loop through each element in the ideal\n",
        "        for elt2 in Ideal:  # Compare each element with every other element\n",
        "            h0 = sp.expand(elt1 - elt2)  # Compute the difference between elements\n",
        "\n",
        "            # Reduce the difference and check if it belongs to the ideal\n",
        "            if(h0 in red_elts.keys()):\n",
        "                h = red_elts[h0]\n",
        "            else:\n",
        "                h = sp.reduced(h0, G, var, domain=ring, order=choose_order)[1]\n",
        "                if(h == 0):\n",
        "                    red_elts[h0] = h\n",
        "                else:\n",
        "                    h = modulo_n(d0, h)\n",
        "                    red_elts[h0] = h\n",
        "\n",
        "            # If the reduced difference is not in the ideal, print details for debugging\n",
        "            if(h not in Ideal):\n",
        "                print(elt1)\n",
        "                print(elt2)\n",
        "                print(Ideal)\n",
        "                print('------')\n",
        "\n",
        "    count = count + 1  # Increment the counter for the next ideal"
      ],
      "metadata": {
        "colab": {
          "base_uri": "https://localhost:8080/",
          "height": 125
        },
        "cellView": "form",
        "id": "iU1gZUWndMLM",
        "outputId": "9ff04a87-da24-4bce-d356-9495f9b693b8"
      },
      "execution_count": 17,
      "outputs": [
        {
          "output_type": "display_data",
          "data": {
            "text/plain": [
              "<IPython.core.display.Math object>"
            ],
            "text/latex": "$\\displaystyle Checked \\ \\ for$"
          },
          "metadata": {}
        },
        {
          "output_type": "stream",
          "name": "stdout",
          "text": [
            "Ideal no:1 , Ideal no:2 , Ideal no:3 , Ideal no:4 , Ideal no:5 , Ideal no:6 , Ideal no:7 , Ideal no:8 , Ideal no:9 , Ideal no:10 , \n",
            "Ideal no:11 , Ideal no:12 , Ideal no:13 , Ideal no:14 , Ideal no:15 , Ideal no:16 , Ideal no:17 , Ideal no:18 , Ideal no:19 , Ideal no:20 , \n",
            "Ideal no:21 , Ideal no:22 , Ideal no:23 , Ideal no:24 , Ideal no:25 , Ideal no:26 , Ideal no:27 , Ideal no:28 , Ideal no:29 , Ideal no:30 , \n",
            "Ideal no:31 , Ideal no:32 , Ideal no:33 , Ideal no:34 , Ideal no:35 , Ideal no:36 , Ideal no:37 , Ideal no:38 , Ideal no:39 , Ideal no:40 , \n",
            "Ideal no:41 , Ideal no:42 , Ideal no:43 , Ideal no:44 , Ideal no:45 , "
          ]
        }
      ]
    },
    {
      "cell_type": "code",
      "source": [
        "# @title $Check \\ \\ if \\ \\ a \\in R, \\ b \\in I \\implies ab \\in I$\n",
        "display(Math(r'Checked \\ \\ for'))\n",
        "count = 1  # Initialize counter for displaying ideal numbers\n",
        "for key in All_ideals:\n",
        "    print('Ideal no:', count, sep='', end=' , ')  # Display the current ideal number\n",
        "    if(count % 10 == 0):  # Print a new line every 10 ideals for readability\n",
        "        print()\n",
        "\n",
        "    Ideal = All_ideals[key]  # Retrieve the current ideal\n",
        "    for elt1 in Ideal:  # Loop through each element in the ideal\n",
        "        for elt2 in QRing:  # Multiply each element with every element in the quotient ring\n",
        "            h0 = sp.expand(elt1 * elt2)  # Compute the product of the elements\n",
        "\n",
        "            # Reduce the product and check if it belongs to the ideal\n",
        "            if(h0 in red_elts.keys()):\n",
        "                h = red_elts[h0]\n",
        "            else:\n",
        "                h = sp.reduced(h0, G, var, domain=ring, order=choose_order)[1]\n",
        "                if(h == 0):\n",
        "                    red_elts[h0] = h\n",
        "                else:\n",
        "                    h = modulo_n(d0, h)\n",
        "                    red_elts[h0] = h\n",
        "\n",
        "            # If the reduced product is not in the ideal, print details for debugging\n",
        "            if(h not in Ideal):\n",
        "                print(elt1)\n",
        "                print(elt2)\n",
        "                print(Ideal)\n",
        "                print('------')\n",
        "\n",
        "    count = count + 1  # Increment the counter for the next ideal"
      ],
      "metadata": {
        "colab": {
          "base_uri": "https://localhost:8080/",
          "height": 125
        },
        "cellView": "form",
        "id": "rZiX7TrUdo_d",
        "outputId": "b26dea35-75a3-403b-f3c7-03ec6415653b"
      },
      "execution_count": 18,
      "outputs": [
        {
          "output_type": "display_data",
          "data": {
            "text/plain": [
              "<IPython.core.display.Math object>"
            ],
            "text/latex": "$\\displaystyle Checked \\ \\ for$"
          },
          "metadata": {}
        },
        {
          "output_type": "stream",
          "name": "stdout",
          "text": [
            "Ideal no:1 , Ideal no:2 , Ideal no:3 , Ideal no:4 , Ideal no:5 , Ideal no:6 , Ideal no:7 , Ideal no:8 , Ideal no:9 , Ideal no:10 , \n",
            "Ideal no:11 , Ideal no:12 , Ideal no:13 , Ideal no:14 , Ideal no:15 , Ideal no:16 , Ideal no:17 , Ideal no:18 , Ideal no:19 , Ideal no:20 , \n",
            "Ideal no:21 , Ideal no:22 , Ideal no:23 , Ideal no:24 , Ideal no:25 , Ideal no:26 , Ideal no:27 , Ideal no:28 , Ideal no:29 , Ideal no:30 , \n",
            "Ideal no:31 , Ideal no:32 , Ideal no:33 , Ideal no:34 , Ideal no:35 , Ideal no:36 , Ideal no:37 , Ideal no:38 , Ideal no:39 , Ideal no:40 , \n",
            "Ideal no:41 , Ideal no:42 , Ideal no:43 , Ideal no:44 , Ideal no:45 , "
          ]
        }
      ]
    },
    {
      "cell_type": "code",
      "source": [
        "# @title $All \\ \\ Ideals$\n",
        "\n",
        "# Iterate through each ideal in the dictionary of all ideals\n",
        "for key in All_ideals.keys():\n",
        "    # Display the ideal's generator and its size\n",
        "    display(Math(r'{' + sp.latex(key) + r' \\ : \\ ' + sp.latex(len(All_ideals[key])) + r'}'))\n",
        "    print('------------')  # Print a separator for clarity\n",
        "\n",
        "# Print the total number of ideals\n",
        "print('Total Ideals :', len(All_ideals.keys()))"
      ],
      "metadata": {
        "cellView": "form",
        "colab": {
          "base_uri": "https://localhost:8080/",
          "height": 1775
        },
        "id": "K7lFUqN3ebyP",
        "outputId": "c670913b-b6a2-4866-a1ad-c93d8f114544"
      },
      "execution_count": 19,
      "outputs": [
        {
          "output_type": "display_data",
          "data": {
            "text/plain": [
              "<IPython.core.display.Math object>"
            ],
            "text/latex": "$\\displaystyle {\\left( z,\\right) \\ : \\ 16}$"
          },
          "metadata": {}
        },
        {
          "output_type": "stream",
          "name": "stdout",
          "text": [
            "------------\n"
          ]
        },
        {
          "output_type": "display_data",
          "data": {
            "text/plain": [
              "<IPython.core.display.Math object>"
            ],
            "text/latex": "$\\displaystyle {\\left( y,\\right) \\ : \\ 16}$"
          },
          "metadata": {}
        },
        {
          "output_type": "stream",
          "name": "stdout",
          "text": [
            "------------\n"
          ]
        },
        {
          "output_type": "display_data",
          "data": {
            "text/plain": [
              "<IPython.core.display.Math object>"
            ],
            "text/latex": "$\\displaystyle {\\left( y + z,\\right) \\ : \\ 16}$"
          },
          "metadata": {}
        },
        {
          "output_type": "stream",
          "name": "stdout",
          "text": [
            "------------\n"
          ]
        },
        {
          "output_type": "display_data",
          "data": {
            "text/plain": [
              "<IPython.core.display.Math object>"
            ],
            "text/latex": "$\\displaystyle {\\left( y z,\\right) \\ : \\ 4}$"
          },
          "metadata": {}
        },
        {
          "output_type": "stream",
          "name": "stdout",
          "text": [
            "------------\n"
          ]
        },
        {
          "output_type": "display_data",
          "data": {
            "text/plain": [
              "<IPython.core.display.Math object>"
            ],
            "text/latex": "$\\displaystyle {\\left( x,\\right) \\ : \\ 16}$"
          },
          "metadata": {}
        },
        {
          "output_type": "stream",
          "name": "stdout",
          "text": [
            "------------\n"
          ]
        },
        {
          "output_type": "display_data",
          "data": {
            "text/plain": [
              "<IPython.core.display.Math object>"
            ],
            "text/latex": "$\\displaystyle {\\left( x + z,\\right) \\ : \\ 16}$"
          },
          "metadata": {}
        },
        {
          "output_type": "stream",
          "name": "stdout",
          "text": [
            "------------\n"
          ]
        },
        {
          "output_type": "display_data",
          "data": {
            "text/plain": [
              "<IPython.core.display.Math object>"
            ],
            "text/latex": "$\\displaystyle {\\left( x + y,\\right) \\ : \\ 16}$"
          },
          "metadata": {}
        },
        {
          "output_type": "stream",
          "name": "stdout",
          "text": [
            "------------\n"
          ]
        },
        {
          "output_type": "display_data",
          "data": {
            "text/plain": [
              "<IPython.core.display.Math object>"
            ],
            "text/latex": "$\\displaystyle {\\left( x + y + z,\\right) \\ : \\ 16}$"
          },
          "metadata": {}
        },
        {
          "output_type": "stream",
          "name": "stdout",
          "text": [
            "------------\n"
          ]
        },
        {
          "output_type": "display_data",
          "data": {
            "text/plain": [
              "<IPython.core.display.Math object>"
            ],
            "text/latex": "$\\displaystyle {\\left( x + y z,\\right) \\ : \\ 16}$"
          },
          "metadata": {}
        },
        {
          "output_type": "stream",
          "name": "stdout",
          "text": [
            "------------\n"
          ]
        },
        {
          "output_type": "display_data",
          "data": {
            "text/plain": [
              "<IPython.core.display.Math object>"
            ],
            "text/latex": "$\\displaystyle {\\left( x + y z + z,\\right) \\ : \\ 16}$"
          },
          "metadata": {}
        },
        {
          "output_type": "stream",
          "name": "stdout",
          "text": [
            "------------\n"
          ]
        },
        {
          "output_type": "display_data",
          "data": {
            "text/plain": [
              "<IPython.core.display.Math object>"
            ],
            "text/latex": "$\\displaystyle {\\left( x + y z + y,\\right) \\ : \\ 16}$"
          },
          "metadata": {}
        },
        {
          "output_type": "stream",
          "name": "stdout",
          "text": [
            "------------\n"
          ]
        },
        {
          "output_type": "display_data",
          "data": {
            "text/plain": [
              "<IPython.core.display.Math object>"
            ],
            "text/latex": "$\\displaystyle {\\left( x + y z + y + z,\\right) \\ : \\ 16}$"
          },
          "metadata": {}
        },
        {
          "output_type": "stream",
          "name": "stdout",
          "text": [
            "------------\n"
          ]
        },
        {
          "output_type": "display_data",
          "data": {
            "text/plain": [
              "<IPython.core.display.Math object>"
            ],
            "text/latex": "$\\displaystyle {\\left( x z,\\right) \\ : \\ 4}$"
          },
          "metadata": {}
        },
        {
          "output_type": "stream",
          "name": "stdout",
          "text": [
            "------------\n"
          ]
        },
        {
          "output_type": "display_data",
          "data": {
            "text/plain": [
              "<IPython.core.display.Math object>"
            ],
            "text/latex": "$\\displaystyle {\\left( x z + y,\\right) \\ : \\ 16}$"
          },
          "metadata": {}
        },
        {
          "output_type": "stream",
          "name": "stdout",
          "text": [
            "------------\n"
          ]
        },
        {
          "output_type": "display_data",
          "data": {
            "text/plain": [
              "<IPython.core.display.Math object>"
            ],
            "text/latex": "$\\displaystyle {\\left( x z + y + z,\\right) \\ : \\ 16}$"
          },
          "metadata": {}
        },
        {
          "output_type": "stream",
          "name": "stdout",
          "text": [
            "------------\n"
          ]
        },
        {
          "output_type": "display_data",
          "data": {
            "text/plain": [
              "<IPython.core.display.Math object>"
            ],
            "text/latex": "$\\displaystyle {\\left( x z + y z,\\right) \\ : \\ 4}$"
          },
          "metadata": {}
        },
        {
          "output_type": "stream",
          "name": "stdout",
          "text": [
            "------------\n"
          ]
        },
        {
          "output_type": "display_data",
          "data": {
            "text/plain": [
              "<IPython.core.display.Math object>"
            ],
            "text/latex": "$\\displaystyle {\\left( x y,\\right) \\ : \\ 4}$"
          },
          "metadata": {}
        },
        {
          "output_type": "stream",
          "name": "stdout",
          "text": [
            "------------\n"
          ]
        },
        {
          "output_type": "display_data",
          "data": {
            "text/plain": [
              "<IPython.core.display.Math object>"
            ],
            "text/latex": "$\\displaystyle {\\left( x y + z,\\right) \\ : \\ 16}$"
          },
          "metadata": {}
        },
        {
          "output_type": "stream",
          "name": "stdout",
          "text": [
            "------------\n"
          ]
        },
        {
          "output_type": "display_data",
          "data": {
            "text/plain": [
              "<IPython.core.display.Math object>"
            ],
            "text/latex": "$\\displaystyle {\\left( x y + y z,\\right) \\ : \\ 4}$"
          },
          "metadata": {}
        },
        {
          "output_type": "stream",
          "name": "stdout",
          "text": [
            "------------\n"
          ]
        },
        {
          "output_type": "display_data",
          "data": {
            "text/plain": [
              "<IPython.core.display.Math object>"
            ],
            "text/latex": "$\\displaystyle {\\left( x y + x z,\\right) \\ : \\ 4}$"
          },
          "metadata": {}
        },
        {
          "output_type": "stream",
          "name": "stdout",
          "text": [
            "------------\n"
          ]
        },
        {
          "output_type": "display_data",
          "data": {
            "text/plain": [
              "<IPython.core.display.Math object>"
            ],
            "text/latex": "$\\displaystyle {\\left( x y + x z + y z,\\right) \\ : \\ 4}$"
          },
          "metadata": {}
        },
        {
          "output_type": "stream",
          "name": "stdout",
          "text": [
            "------------\n"
          ]
        },
        {
          "output_type": "display_data",
          "data": {
            "text/plain": [
              "<IPython.core.display.Math object>"
            ],
            "text/latex": "$\\displaystyle {\\left( x y z,\\right) \\ : \\ 2}$"
          },
          "metadata": {}
        },
        {
          "output_type": "stream",
          "name": "stdout",
          "text": [
            "------------\n"
          ]
        },
        {
          "output_type": "display_data",
          "data": {
            "text/plain": [
              "<IPython.core.display.Math object>"
            ],
            "text/latex": "$\\displaystyle {\\left( z, \\  y\\right) \\ : \\ 64}$"
          },
          "metadata": {}
        },
        {
          "output_type": "stream",
          "name": "stdout",
          "text": [
            "------------\n"
          ]
        },
        {
          "output_type": "display_data",
          "data": {
            "text/plain": [
              "<IPython.core.display.Math object>"
            ],
            "text/latex": "$\\displaystyle {\\left( z, \\  x\\right) \\ : \\ 64}$"
          },
          "metadata": {}
        },
        {
          "output_type": "stream",
          "name": "stdout",
          "text": [
            "------------\n"
          ]
        },
        {
          "output_type": "display_data",
          "data": {
            "text/plain": [
              "<IPython.core.display.Math object>"
            ],
            "text/latex": "$\\displaystyle {\\left( z, \\  x + y\\right) \\ : \\ 64}$"
          },
          "metadata": {}
        },
        {
          "output_type": "stream",
          "name": "stdout",
          "text": [
            "------------\n"
          ]
        },
        {
          "output_type": "display_data",
          "data": {
            "text/plain": [
              "<IPython.core.display.Math object>"
            ],
            "text/latex": "$\\displaystyle {\\left( z, \\  x y\\right) \\ : \\ 32}$"
          },
          "metadata": {}
        },
        {
          "output_type": "stream",
          "name": "stdout",
          "text": [
            "------------\n"
          ]
        },
        {
          "output_type": "display_data",
          "data": {
            "text/plain": [
              "<IPython.core.display.Math object>"
            ],
            "text/latex": "$\\displaystyle {\\left( y, \\  x\\right) \\ : \\ 64}$"
          },
          "metadata": {}
        },
        {
          "output_type": "stream",
          "name": "stdout",
          "text": [
            "------------\n"
          ]
        },
        {
          "output_type": "display_data",
          "data": {
            "text/plain": [
              "<IPython.core.display.Math object>"
            ],
            "text/latex": "$\\displaystyle {\\left( y, \\  x + z\\right) \\ : \\ 64}$"
          },
          "metadata": {}
        },
        {
          "output_type": "stream",
          "name": "stdout",
          "text": [
            "------------\n"
          ]
        },
        {
          "output_type": "display_data",
          "data": {
            "text/plain": [
              "<IPython.core.display.Math object>"
            ],
            "text/latex": "$\\displaystyle {\\left( y, \\  x z\\right) \\ : \\ 32}$"
          },
          "metadata": {}
        },
        {
          "output_type": "stream",
          "name": "stdout",
          "text": [
            "------------\n"
          ]
        },
        {
          "output_type": "display_data",
          "data": {
            "text/plain": [
              "<IPython.core.display.Math object>"
            ],
            "text/latex": "$\\displaystyle {\\left( y + z, \\  x\\right) \\ : \\ 64}$"
          },
          "metadata": {}
        },
        {
          "output_type": "stream",
          "name": "stdout",
          "text": [
            "------------\n"
          ]
        },
        {
          "output_type": "display_data",
          "data": {
            "text/plain": [
              "<IPython.core.display.Math object>"
            ],
            "text/latex": "$\\displaystyle {\\left( y + z, \\  x + z\\right) \\ : \\ 64}$"
          },
          "metadata": {}
        },
        {
          "output_type": "stream",
          "name": "stdout",
          "text": [
            "------------\n"
          ]
        },
        {
          "output_type": "display_data",
          "data": {
            "text/plain": [
              "<IPython.core.display.Math object>"
            ],
            "text/latex": "$\\displaystyle {\\left( y + z, \\  x z\\right) \\ : \\ 32}$"
          },
          "metadata": {}
        },
        {
          "output_type": "stream",
          "name": "stdout",
          "text": [
            "------------\n"
          ]
        },
        {
          "output_type": "display_data",
          "data": {
            "text/plain": [
              "<IPython.core.display.Math object>"
            ],
            "text/latex": "$\\displaystyle {\\left( y z, \\  x\\right) \\ : \\ 32}$"
          },
          "metadata": {}
        },
        {
          "output_type": "stream",
          "name": "stdout",
          "text": [
            "------------\n"
          ]
        },
        {
          "output_type": "display_data",
          "data": {
            "text/plain": [
              "<IPython.core.display.Math object>"
            ],
            "text/latex": "$\\displaystyle {\\left( y z, \\  x + z\\right) \\ : \\ 32}$"
          },
          "metadata": {}
        },
        {
          "output_type": "stream",
          "name": "stdout",
          "text": [
            "------------\n"
          ]
        },
        {
          "output_type": "display_data",
          "data": {
            "text/plain": [
              "<IPython.core.display.Math object>"
            ],
            "text/latex": "$\\displaystyle {\\left( y z, \\  x + y\\right) \\ : \\ 32}$"
          },
          "metadata": {}
        },
        {
          "output_type": "stream",
          "name": "stdout",
          "text": [
            "------------\n"
          ]
        },
        {
          "output_type": "display_data",
          "data": {
            "text/plain": [
              "<IPython.core.display.Math object>"
            ],
            "text/latex": "$\\displaystyle {\\left( y z, \\  x + y + z\\right) \\ : \\ 32}$"
          },
          "metadata": {}
        },
        {
          "output_type": "stream",
          "name": "stdout",
          "text": [
            "------------\n"
          ]
        },
        {
          "output_type": "display_data",
          "data": {
            "text/plain": [
              "<IPython.core.display.Math object>"
            ],
            "text/latex": "$\\displaystyle {\\left( y z, \\  x z\\right) \\ : \\ 8}$"
          },
          "metadata": {}
        },
        {
          "output_type": "stream",
          "name": "stdout",
          "text": [
            "------------\n"
          ]
        },
        {
          "output_type": "display_data",
          "data": {
            "text/plain": [
              "<IPython.core.display.Math object>"
            ],
            "text/latex": "$\\displaystyle {\\left( y z, \\  x y\\right) \\ : \\ 8}$"
          },
          "metadata": {}
        },
        {
          "output_type": "stream",
          "name": "stdout",
          "text": [
            "------------\n"
          ]
        },
        {
          "output_type": "display_data",
          "data": {
            "text/plain": [
              "<IPython.core.display.Math object>"
            ],
            "text/latex": "$\\displaystyle {\\left( y z, \\  x y + x z\\right) \\ : \\ 8}$"
          },
          "metadata": {}
        },
        {
          "output_type": "stream",
          "name": "stdout",
          "text": [
            "------------\n"
          ]
        },
        {
          "output_type": "display_data",
          "data": {
            "text/plain": [
              "<IPython.core.display.Math object>"
            ],
            "text/latex": "$\\displaystyle {\\left( x z, \\  x y\\right) \\ : \\ 8}$"
          },
          "metadata": {}
        },
        {
          "output_type": "stream",
          "name": "stdout",
          "text": [
            "------------\n"
          ]
        },
        {
          "output_type": "display_data",
          "data": {
            "text/plain": [
              "<IPython.core.display.Math object>"
            ],
            "text/latex": "$\\displaystyle {\\left( x z, \\  x y + y z\\right) \\ : \\ 8}$"
          },
          "metadata": {}
        },
        {
          "output_type": "stream",
          "name": "stdout",
          "text": [
            "------------\n"
          ]
        },
        {
          "output_type": "display_data",
          "data": {
            "text/plain": [
              "<IPython.core.display.Math object>"
            ],
            "text/latex": "$\\displaystyle {\\left( x z + y z, \\  x y\\right) \\ : \\ 8}$"
          },
          "metadata": {}
        },
        {
          "output_type": "stream",
          "name": "stdout",
          "text": [
            "------------\n"
          ]
        },
        {
          "output_type": "display_data",
          "data": {
            "text/plain": [
              "<IPython.core.display.Math object>"
            ],
            "text/latex": "$\\displaystyle {\\left( x z + y z, \\  x y + y z\\right) \\ : \\ 8}$"
          },
          "metadata": {}
        },
        {
          "output_type": "stream",
          "name": "stdout",
          "text": [
            "------------\n"
          ]
        },
        {
          "output_type": "display_data",
          "data": {
            "text/plain": [
              "<IPython.core.display.Math object>"
            ],
            "text/latex": "$\\displaystyle {\\left( x, \\  y, \\  z\\right) \\ : \\ 128}$"
          },
          "metadata": {}
        },
        {
          "output_type": "stream",
          "name": "stdout",
          "text": [
            "------------\n"
          ]
        },
        {
          "output_type": "display_data",
          "data": {
            "text/plain": [
              "<IPython.core.display.Math object>"
            ],
            "text/latex": "$\\displaystyle {\\left( x y, \\  x z, \\  y z\\right) \\ : \\ 16}$"
          },
          "metadata": {}
        },
        {
          "output_type": "stream",
          "name": "stdout",
          "text": [
            "------------\n",
            "Total Ideals : 45\n"
          ]
        }
      ]
    },
    {
      "cell_type": "code",
      "source": [
        "# @title $UC \\ and \\ LC$\n",
        "\n",
        "# Dictionaries to store the Lower and Upper Covers (LC) and Upper and Lower Covers (UC)\n",
        "LC_Poset = {}\n",
        "UC_Poset = {}\n",
        "LC0_Poset = {}\n",
        "UC0_Poset = {}\n",
        "Poset0 = []\n",
        "\n",
        "# Iterate through each ideal to find its Lower Covers (LC) and Upper Covers (UC)\n",
        "for key1 in All_ideals.keys():\n",
        "    temp_lc = []  # List to hold lower covers for the current ideal\n",
        "    temp_uc = []  # List to hold upper covers for the current ideal\n",
        "\n",
        "    # Find all ideals that are strictly less than the current ideal\n",
        "    for key2 in All_ideals.keys():\n",
        "        if (key1 != key2) and (All_ideals[key2].issubset(All_ideals[key1])):\n",
        "            temp_lc.append(key2)  # Append to LC list if it is a lower cover\n",
        "\n",
        "    # Find all ideals that are strictly greater than the current ideal\n",
        "    for key2 in All_ideals.keys():\n",
        "        if (key1 != key2) and (All_ideals[key1].issubset(All_ideals[key2])):\n",
        "            temp_uc.append(key2)  # Append to UC list if it is an upper cover\n",
        "\n",
        "    # Update the dictionaries with the computed covers\n",
        "    LC_Poset[key1] = temp_lc\n",
        "    UC_Poset[key1] = temp_uc\n",
        "    LC0_Poset[key1] = temp_lc\n",
        "    UC0_Poset[key1] = temp_uc\n",
        "\n",
        "    # Add the current ideal to the list of all ideals\n",
        "    Poset0.append(key1)\n",
        "\n",
        "# Display the Lower Covers (LC) and Upper Covers (UC) as LaTeX formatted output\n",
        "#display(Math(sp.latex(LC_Poset)))\n",
        "print()  # Print a blank line for separation\n",
        "#display(Math(sp.latex(UC_Poset)))"
      ],
      "metadata": {
        "colab": {
          "base_uri": "https://localhost:8080/",
          "height": 0
        },
        "cellView": "form",
        "id": "2AiXEGdgfmgg",
        "outputId": "7b0e6e12-d1a5-4618-d745-cb1ad8ebabf9"
      },
      "execution_count": 20,
      "outputs": [
        {
          "output_type": "stream",
          "name": "stdout",
          "text": [
            "\n"
          ]
        }
      ]
    },
    {
      "cell_type": "code",
      "source": [
        "# @title $Levels \\ of \\ Poset$\n",
        "\n",
        "# Set to store the cardinalities of ideals to determine levels in the poset\n",
        "idls_cards = set()\n",
        "\n",
        "# Collect all unique cardinalities of the ideals\n",
        "for key in All_ideals.keys():\n",
        "    idls_cards.add(len(All_ideals[key]))\n",
        "\n",
        "# Convert the set to a sorted list in descending order\n",
        "idls_cards = list(np.sort(list(idls_cards))[::-1])\n",
        "\n",
        "# Dictionary to store ideals at each level\n",
        "Poset_levels = {}\n",
        "for i in range(len(idls_cards)):\n",
        "    Poset_levels[i] = []\n",
        "\n",
        "# Find the ideals at the first level (with the maximum cardinality)\n",
        "for key0 in Poset0:\n",
        "    if(len(All_ideals[key0]) == N):\n",
        "        Poset_levels[0].append(key0)\n",
        "        break\n",
        "Poset0.remove(key0)  # Remove the processed ideal from the list\n",
        "idls_cards.remove(idls_cards[0])  # Remove the processed cardinality\n",
        "\n",
        "# Find ideals at higher levels\n",
        "i = 1\n",
        "while(len(idls_cards) != 0):\n",
        "    to_delete = []  # List to keep track of ideals to be removed after processing\n",
        "    # Add ideals to the current level based on cardinality\n",
        "    for key0 in Poset0:\n",
        "        if(len(All_ideals[key0]) == idls_cards[0]):\n",
        "            Poset_levels[i].append(key0)\n",
        "            to_delete.append(key0)\n",
        "\n",
        "    # Remove processed ideals from the list\n",
        "    for key0 in to_delete:\n",
        "        Poset0.remove(key0)\n",
        "\n",
        "    # Process remaining ideals for the current level\n",
        "    j = 1\n",
        "    while(j < len(idls_cards)):\n",
        "        to_delete = []\n",
        "        for key0 in Poset0:\n",
        "            if(len(All_ideals[key0]) == idls_cards[j]):\n",
        "                # Check if there is no intersection with the previous level\n",
        "                if(len(set(UC_Poset[key0]).intersection(set(Poset_levels[i]))) == 0):\n",
        "                    Poset_levels[i].append(key0)\n",
        "                    to_delete.append(key0)\n",
        "\n",
        "        # Remove processed ideals from the list\n",
        "        for key0 in to_delete:\n",
        "            Poset0.remove(key0)\n",
        "        j = j + 1\n",
        "\n",
        "    # Move to the next cardinality\n",
        "    idls_cards.remove(idls_cards[0])\n",
        "    i = i + 1\n",
        "\n",
        "# Display the ideals at each level of the poset\n",
        "for i in range(len(Poset_levels.keys())):\n",
        "    display(Math(r'Level :' + sp.latex(i)))\n",
        "    for key in Poset_levels[i]:\n",
        "        display(Math(sp.latex(key) + r';' + sp.latex(len(All_ideals[key]))))\n",
        "    print('------')  # Separator for clarity"
      ],
      "metadata": {
        "cellView": "form",
        "colab": {
          "base_uri": "https://localhost:8080/",
          "height": 1247
        },
        "id": "EdsmSmZif88p",
        "outputId": "77e75444-7184-4c62-bda7-47e30dd35d20"
      },
      "execution_count": 21,
      "outputs": [
        {
          "output_type": "display_data",
          "data": {
            "text/plain": [
              "<IPython.core.display.Math object>"
            ],
            "text/latex": "$\\displaystyle Level :0$"
          },
          "metadata": {}
        },
        {
          "output_type": "display_data",
          "data": {
            "text/plain": [
              "<IPython.core.display.Math object>"
            ],
            "text/latex": "$\\displaystyle \\left( x, \\  y, \\  z\\right);128$"
          },
          "metadata": {}
        },
        {
          "output_type": "stream",
          "name": "stdout",
          "text": [
            "------\n"
          ]
        },
        {
          "output_type": "display_data",
          "data": {
            "text/plain": [
              "<IPython.core.display.Math object>"
            ],
            "text/latex": "$\\displaystyle Level :1$"
          },
          "metadata": {}
        },
        {
          "output_type": "display_data",
          "data": {
            "text/plain": [
              "<IPython.core.display.Math object>"
            ],
            "text/latex": "$\\displaystyle \\left( z, \\  y\\right);64$"
          },
          "metadata": {}
        },
        {
          "output_type": "display_data",
          "data": {
            "text/plain": [
              "<IPython.core.display.Math object>"
            ],
            "text/latex": "$\\displaystyle \\left( z, \\  x\\right);64$"
          },
          "metadata": {}
        },
        {
          "output_type": "display_data",
          "data": {
            "text/plain": [
              "<IPython.core.display.Math object>"
            ],
            "text/latex": "$\\displaystyle \\left( z, \\  x + y\\right);64$"
          },
          "metadata": {}
        },
        {
          "output_type": "display_data",
          "data": {
            "text/plain": [
              "<IPython.core.display.Math object>"
            ],
            "text/latex": "$\\displaystyle \\left( y, \\  x\\right);64$"
          },
          "metadata": {}
        },
        {
          "output_type": "display_data",
          "data": {
            "text/plain": [
              "<IPython.core.display.Math object>"
            ],
            "text/latex": "$\\displaystyle \\left( y, \\  x + z\\right);64$"
          },
          "metadata": {}
        },
        {
          "output_type": "display_data",
          "data": {
            "text/plain": [
              "<IPython.core.display.Math object>"
            ],
            "text/latex": "$\\displaystyle \\left( y + z, \\  x\\right);64$"
          },
          "metadata": {}
        },
        {
          "output_type": "display_data",
          "data": {
            "text/plain": [
              "<IPython.core.display.Math object>"
            ],
            "text/latex": "$\\displaystyle \\left( y + z, \\  x + z\\right);64$"
          },
          "metadata": {}
        },
        {
          "output_type": "stream",
          "name": "stdout",
          "text": [
            "------\n"
          ]
        },
        {
          "output_type": "display_data",
          "data": {
            "text/plain": [
              "<IPython.core.display.Math object>"
            ],
            "text/latex": "$\\displaystyle Level :2$"
          },
          "metadata": {}
        },
        {
          "output_type": "display_data",
          "data": {
            "text/plain": [
              "<IPython.core.display.Math object>"
            ],
            "text/latex": "$\\displaystyle \\left( z, \\  x y\\right);32$"
          },
          "metadata": {}
        },
        {
          "output_type": "display_data",
          "data": {
            "text/plain": [
              "<IPython.core.display.Math object>"
            ],
            "text/latex": "$\\displaystyle \\left( y, \\  x z\\right);32$"
          },
          "metadata": {}
        },
        {
          "output_type": "display_data",
          "data": {
            "text/plain": [
              "<IPython.core.display.Math object>"
            ],
            "text/latex": "$\\displaystyle \\left( y + z, \\  x z\\right);32$"
          },
          "metadata": {}
        },
        {
          "output_type": "display_data",
          "data": {
            "text/plain": [
              "<IPython.core.display.Math object>"
            ],
            "text/latex": "$\\displaystyle \\left( y z, \\  x\\right);32$"
          },
          "metadata": {}
        },
        {
          "output_type": "display_data",
          "data": {
            "text/plain": [
              "<IPython.core.display.Math object>"
            ],
            "text/latex": "$\\displaystyle \\left( y z, \\  x + z\\right);32$"
          },
          "metadata": {}
        },
        {
          "output_type": "display_data",
          "data": {
            "text/plain": [
              "<IPython.core.display.Math object>"
            ],
            "text/latex": "$\\displaystyle \\left( y z, \\  x + y\\right);32$"
          },
          "metadata": {}
        },
        {
          "output_type": "display_data",
          "data": {
            "text/plain": [
              "<IPython.core.display.Math object>"
            ],
            "text/latex": "$\\displaystyle \\left( y z, \\  x + y + z\\right);32$"
          },
          "metadata": {}
        },
        {
          "output_type": "stream",
          "name": "stdout",
          "text": [
            "------\n"
          ]
        },
        {
          "output_type": "display_data",
          "data": {
            "text/plain": [
              "<IPython.core.display.Math object>"
            ],
            "text/latex": "$\\displaystyle Level :3$"
          },
          "metadata": {}
        },
        {
          "output_type": "display_data",
          "data": {
            "text/plain": [
              "<IPython.core.display.Math object>"
            ],
            "text/latex": "$\\displaystyle \\left( z,\\right);16$"
          },
          "metadata": {}
        },
        {
          "output_type": "display_data",
          "data": {
            "text/plain": [
              "<IPython.core.display.Math object>"
            ],
            "text/latex": "$\\displaystyle \\left( y,\\right);16$"
          },
          "metadata": {}
        },
        {
          "output_type": "display_data",
          "data": {
            "text/plain": [
              "<IPython.core.display.Math object>"
            ],
            "text/latex": "$\\displaystyle \\left( y + z,\\right);16$"
          },
          "metadata": {}
        },
        {
          "output_type": "display_data",
          "data": {
            "text/plain": [
              "<IPython.core.display.Math object>"
            ],
            "text/latex": "$\\displaystyle \\left( x,\\right);16$"
          },
          "metadata": {}
        },
        {
          "output_type": "display_data",
          "data": {
            "text/plain": [
              "<IPython.core.display.Math object>"
            ],
            "text/latex": "$\\displaystyle \\left( x + z,\\right);16$"
          },
          "metadata": {}
        },
        {
          "output_type": "display_data",
          "data": {
            "text/plain": [
              "<IPython.core.display.Math object>"
            ],
            "text/latex": "$\\displaystyle \\left( x + y,\\right);16$"
          },
          "metadata": {}
        },
        {
          "output_type": "display_data",
          "data": {
            "text/plain": [
              "<IPython.core.display.Math object>"
            ],
            "text/latex": "$\\displaystyle \\left( x + y + z,\\right);16$"
          },
          "metadata": {}
        },
        {
          "output_type": "display_data",
          "data": {
            "text/plain": [
              "<IPython.core.display.Math object>"
            ],
            "text/latex": "$\\displaystyle \\left( x + y z,\\right);16$"
          },
          "metadata": {}
        },
        {
          "output_type": "display_data",
          "data": {
            "text/plain": [
              "<IPython.core.display.Math object>"
            ],
            "text/latex": "$\\displaystyle \\left( x + y z + z,\\right);16$"
          },
          "metadata": {}
        },
        {
          "output_type": "display_data",
          "data": {
            "text/plain": [
              "<IPython.core.display.Math object>"
            ],
            "text/latex": "$\\displaystyle \\left( x + y z + y,\\right);16$"
          },
          "metadata": {}
        },
        {
          "output_type": "display_data",
          "data": {
            "text/plain": [
              "<IPython.core.display.Math object>"
            ],
            "text/latex": "$\\displaystyle \\left( x + y z + y + z,\\right);16$"
          },
          "metadata": {}
        },
        {
          "output_type": "display_data",
          "data": {
            "text/plain": [
              "<IPython.core.display.Math object>"
            ],
            "text/latex": "$\\displaystyle \\left( x z + y,\\right);16$"
          },
          "metadata": {}
        },
        {
          "output_type": "display_data",
          "data": {
            "text/plain": [
              "<IPython.core.display.Math object>"
            ],
            "text/latex": "$\\displaystyle \\left( x z + y + z,\\right);16$"
          },
          "metadata": {}
        },
        {
          "output_type": "display_data",
          "data": {
            "text/plain": [
              "<IPython.core.display.Math object>"
            ],
            "text/latex": "$\\displaystyle \\left( x y + z,\\right);16$"
          },
          "metadata": {}
        },
        {
          "output_type": "display_data",
          "data": {
            "text/plain": [
              "<IPython.core.display.Math object>"
            ],
            "text/latex": "$\\displaystyle \\left( x y, \\  x z, \\  y z\\right);16$"
          },
          "metadata": {}
        },
        {
          "output_type": "stream",
          "name": "stdout",
          "text": [
            "------\n"
          ]
        },
        {
          "output_type": "display_data",
          "data": {
            "text/plain": [
              "<IPython.core.display.Math object>"
            ],
            "text/latex": "$\\displaystyle Level :4$"
          },
          "metadata": {}
        },
        {
          "output_type": "display_data",
          "data": {
            "text/plain": [
              "<IPython.core.display.Math object>"
            ],
            "text/latex": "$\\displaystyle \\left( y z, \\  x z\\right);8$"
          },
          "metadata": {}
        },
        {
          "output_type": "display_data",
          "data": {
            "text/plain": [
              "<IPython.core.display.Math object>"
            ],
            "text/latex": "$\\displaystyle \\left( y z, \\  x y\\right);8$"
          },
          "metadata": {}
        },
        {
          "output_type": "display_data",
          "data": {
            "text/plain": [
              "<IPython.core.display.Math object>"
            ],
            "text/latex": "$\\displaystyle \\left( y z, \\  x y + x z\\right);8$"
          },
          "metadata": {}
        },
        {
          "output_type": "display_data",
          "data": {
            "text/plain": [
              "<IPython.core.display.Math object>"
            ],
            "text/latex": "$\\displaystyle \\left( x z, \\  x y\\right);8$"
          },
          "metadata": {}
        },
        {
          "output_type": "display_data",
          "data": {
            "text/plain": [
              "<IPython.core.display.Math object>"
            ],
            "text/latex": "$\\displaystyle \\left( x z, \\  x y + y z\\right);8$"
          },
          "metadata": {}
        },
        {
          "output_type": "display_data",
          "data": {
            "text/plain": [
              "<IPython.core.display.Math object>"
            ],
            "text/latex": "$\\displaystyle \\left( x z + y z, \\  x y\\right);8$"
          },
          "metadata": {}
        },
        {
          "output_type": "display_data",
          "data": {
            "text/plain": [
              "<IPython.core.display.Math object>"
            ],
            "text/latex": "$\\displaystyle \\left( x z + y z, \\  x y + y z\\right);8$"
          },
          "metadata": {}
        },
        {
          "output_type": "stream",
          "name": "stdout",
          "text": [
            "------\n"
          ]
        },
        {
          "output_type": "display_data",
          "data": {
            "text/plain": [
              "<IPython.core.display.Math object>"
            ],
            "text/latex": "$\\displaystyle Level :5$"
          },
          "metadata": {}
        },
        {
          "output_type": "display_data",
          "data": {
            "text/plain": [
              "<IPython.core.display.Math object>"
            ],
            "text/latex": "$\\displaystyle \\left( y z,\\right);4$"
          },
          "metadata": {}
        },
        {
          "output_type": "display_data",
          "data": {
            "text/plain": [
              "<IPython.core.display.Math object>"
            ],
            "text/latex": "$\\displaystyle \\left( x z,\\right);4$"
          },
          "metadata": {}
        },
        {
          "output_type": "display_data",
          "data": {
            "text/plain": [
              "<IPython.core.display.Math object>"
            ],
            "text/latex": "$\\displaystyle \\left( x z + y z,\\right);4$"
          },
          "metadata": {}
        },
        {
          "output_type": "display_data",
          "data": {
            "text/plain": [
              "<IPython.core.display.Math object>"
            ],
            "text/latex": "$\\displaystyle \\left( x y,\\right);4$"
          },
          "metadata": {}
        },
        {
          "output_type": "display_data",
          "data": {
            "text/plain": [
              "<IPython.core.display.Math object>"
            ],
            "text/latex": "$\\displaystyle \\left( x y + y z,\\right);4$"
          },
          "metadata": {}
        },
        {
          "output_type": "display_data",
          "data": {
            "text/plain": [
              "<IPython.core.display.Math object>"
            ],
            "text/latex": "$\\displaystyle \\left( x y + x z,\\right);4$"
          },
          "metadata": {}
        },
        {
          "output_type": "display_data",
          "data": {
            "text/plain": [
              "<IPython.core.display.Math object>"
            ],
            "text/latex": "$\\displaystyle \\left( x y + x z + y z,\\right);4$"
          },
          "metadata": {}
        },
        {
          "output_type": "stream",
          "name": "stdout",
          "text": [
            "------\n"
          ]
        },
        {
          "output_type": "display_data",
          "data": {
            "text/plain": [
              "<IPython.core.display.Math object>"
            ],
            "text/latex": "$\\displaystyle Level :6$"
          },
          "metadata": {}
        },
        {
          "output_type": "display_data",
          "data": {
            "text/plain": [
              "<IPython.core.display.Math object>"
            ],
            "text/latex": "$\\displaystyle \\left( x y z,\\right);2$"
          },
          "metadata": {}
        },
        {
          "output_type": "stream",
          "name": "stdout",
          "text": [
            "------\n"
          ]
        }
      ]
    },
    {
      "cell_type": "code",
      "source": [
        "# @title $Poset$\n",
        "\n",
        "# Update LC0_Poset (Lower Closure) for each ideal\n",
        "for key1 in All_ideals.keys():\n",
        "    for i in range(len(Poset_levels)):\n",
        "        for key2 in Poset_levels[i]:\n",
        "            if(key2 in LC_Poset[key1]):\n",
        "                LC0_Poset[key1] = [key3 for key3 in LC0_Poset[key1] if key3 not in LC_Poset[key2]]\n",
        "\n",
        "# Update UC0_Poset (Upper Closure) for each ideal\n",
        "for key1 in All_ideals.keys():\n",
        "    for i in range(len(Poset_levels)):\n",
        "        for key2 in Poset_levels[i]:\n",
        "            if(key2 in UC_Poset[key1]):\n",
        "                UC0_Poset[key1] = [key3 for key3 in UC0_Poset[key1] if key3 not in UC_Poset[key2]]\n",
        "\n",
        "# Import matplotlib for plotting\n",
        "import matplotlib.pyplot as plt\n",
        "from matplotlib.pyplot import figure\n",
        "\n",
        "# Create a new figure for plotting\n",
        "figure(num=None, figsize=(8, 8), dpi=120, facecolor='w', edgecolor='k')\n",
        "\n",
        "# Plot the maximal ideal\n",
        "plt.scatter(0, 0, color='red')  # Plot the maximal ideal at origin\n",
        "plt.text(0, 0, '$m$', fontsize=12)  # Label the maximal ideal\n",
        "\n",
        "# Dictionary to store coordinates of each ideal for plotting\n",
        "ideal_cords = {}\n",
        "ideal_cords[Poset_levels[0][0]] = (0, 0)  # Set coordinate for the maximal ideal\n",
        "\n",
        "# Plot ideals at each level\n",
        "for i in range(1, len(Poset_levels)):\n",
        "    n = len(Poset_levels[i])\n",
        "    y_cords = [(-1 * i) for j in range(n)]  # Y-coordinates for the current level\n",
        "    x_cords = list(range(-1 * (n - 1), n, 2))  # X-coordinates for the current level\n",
        "\n",
        "    plt.scatter(x_cords, y_cords, color='red')  # Plot ideals at the current level\n",
        "\n",
        "    # Add text labels for each ideal\n",
        "    count = 0\n",
        "    for key0 in Poset_levels[i]:\n",
        "        ideal_cords[key0] = (x_cords[count], y_cords[count])\n",
        "        plt.text(x_cords[count], y_cords[count], r'$' + sp.latex(Poset_levels[i][count]) + r'$', rotation=45, fontsize=10)\n",
        "        count += 1\n",
        "\n",
        "# Plot edges for upper closure (UC) relations\n",
        "col = ['red', 'yellow', 'green', 'pink', 'blue', 'violet', 'purple']\n",
        "\n",
        "for key1 in All_ideals.keys():\n",
        "    for key2 in UC0_Poset[key1]:\n",
        "        plt.plot([ideal_cords[key1][0], ideal_cords[key2][0]], [ideal_cords[key1][1], ideal_cords[key2][1]], linewidth=1)\n",
        "\n",
        "# Hide axes and display the plot\n",
        "plt.axis('off')\n",
        "plt.show()"
      ],
      "metadata": {
        "cellView": "form",
        "colab": {
          "base_uri": "https://localhost:8080/",
          "height": 780
        },
        "id": "3Yw3Kx-BgTh3",
        "outputId": "46d367c6-e781-4e83-ca4e-bf05c759763d"
      },
      "execution_count": 22,
      "outputs": [
        {
          "output_type": "display_data",
          "data": {
            "text/plain": [
              "<Figure size 960x960 with 1 Axes>"
            ],
            "image/png": "[encoded data removed]"
          },
          "metadata": {}
        }
      ]
    }
  ]
}